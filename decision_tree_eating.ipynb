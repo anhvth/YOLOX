{
 "cells": [
  {
   "cell_type": "code",
   "execution_count": null,
   "id": "2ea9dc25-1b38-4db6-8377-e1607ac9c7a5",
   "metadata": {},
   "outputs": [],
   "source": [
    "from avcv.all import *"
   ]
  },
  {
   "cell_type": "code",
   "execution_count": null,
   "id": "70eac48b-faf1-4050-bf6c-146ba92eea61",
   "metadata": {},
   "outputs": [],
   "source": [
    "class Label:\n",
    "    def __init__(self, label, video):\n",
    "        self.label = label\n",
    "        self.video = video\n",
    "        \n",
    "    def check_action_at_frame_idx(self, i):\n",
    "        if isinstance(i, int):\n",
    "            i = i/len(self.video)\n",
    "            \n",
    "        actions = []\n",
    "        for action in self.label['annotation']['actionAnnotationList']:\n",
    "            if i >= action['start'] and i < action['end']:\n",
    "                action_idx = action['action']\n",
    "                action_name = self.actionid2name[action_idx]\n",
    "                actions.append(action_name)\n",
    "        return actions\n",
    "    @property\n",
    "    def actionid2name(self):\n",
    "        ret = dict()\n",
    "        for actionLabel in self.label['config']['actionLabelData']:\n",
    "            ret[actionLabel['id']] = actionLabel['name']\n",
    "        return ret"
   ]
  },
  {
   "cell_type": "code",
   "execution_count": null,
   "id": "25d8c4c7-859c-4e1c-bdea-885fa383c0bb",
   "metadata": {},
   "outputs": [],
   "source": [
    "# ls /home/anhvth8/gitprojects/YOLOX/.cache/out_jsons"
   ]
  },
  {
   "cell_type": "code",
   "execution_count": null,
   "id": "05b66e82-7a4c-4c6f-b507-b493d4f87155",
   "metadata": {},
   "outputs": [],
   "source": [
    "def get_data(video_name):\n",
    "    pred_json_path = f'/home/anhvth8/gitprojects/YOLOX/.cache/raw_video_predict_face_food/{video_name}/annotations/pred_mb2_face_food.json'\n",
    "    root_video_name = '_'.join(video_name.split('_')[:-2])\n",
    "    label_path = f'/data/DMS_Behavior_Detection/RawVideos/Action_Eating/{root_video_name}/{video_name}.json'\n",
    "    video_path = f'/data/DMS_Behavior_Detection/RawVideos/Action_Eating/{root_video_name}/{video_name}.mp4'\n",
    "    assert osp.exists(pred_json_path), f'404 {pred_json_path}'\n",
    "    assert osp.exists(label_path), f'404 {label_path}'\n",
    "    assert osp.exists(video_path), f'404 {video_path}'\n",
    "    \n",
    "    return dict(\n",
    "        pred_json_path=pred_json_path,\n",
    "        label_path = label_path,\n",
    "        video_path=video_path\n",
    "    )"
   ]
  },
  {
   "cell_type": "code",
   "execution_count": null,
   "id": "6d3c1ca8-1e5d-41d3-a391-81fef534209a",
   "metadata": {},
   "outputs": [],
   "source": []
  },
  {
   "cell_type": "code",
   "execution_count": null,
   "id": "7ec8dcda-e35c-49dd-9be6-d25004f0103f",
   "metadata": {},
   "outputs": [
    {
     "data": {
      "text/plain": [
       "83"
      ]
     },
     "execution_count": null,
     "metadata": {},
     "output_type": "execute_result"
    }
   ],
   "source": [
    "video_names  = os.listdir('/home/anhvth8/gitprojects/YOLOX/.cache/raw_video_predict_face_food/')\n",
    "len(video_names)"
   ]
  },
  {
   "cell_type": "code",
   "execution_count": null,
   "id": "4f1a01fe-b866-4275-be20-90daa425d751",
   "metadata": {},
   "outputs": [],
   "source": [
    "list_json_paths = []\n",
    "for vname in video_names:\n",
    "    try:\n",
    "        json_paths = get_data(vname)\n",
    "        list_json_paths.append(json_paths)\n",
    "    except Exception as e:\n",
    "        # print(e)\n",
    "        pass"
   ]
  },
  {
   "cell_type": "code",
   "execution_count": null,
   "id": "8d6cbeb6-c50a-408f-a9d9-761314a860ec",
   "metadata": {},
   "outputs": [
    {
     "data": {
      "text/plain": [
       "42"
      ]
     },
     "execution_count": null,
     "metadata": {},
     "output_type": "execute_result"
    }
   ],
   "source": [
    "len(list_json_paths)"
   ]
  },
  {
   "cell_type": "code",
   "execution_count": null,
   "id": "04a4da1d-07da-4757-b6f9-df9cf14c5fad",
   "metadata": {},
   "outputs": [],
   "source": []
  },
  {
   "cell_type": "code",
   "execution_count": null,
   "id": "d3834609-6424-480b-9c5b-c92e8c3cb2e1",
   "metadata": {},
   "outputs": [],
   "source": []
  },
  {
   "cell_type": "code",
   "execution_count": null,
   "id": "567af154-8c90-4a20-96b4-523add768819",
   "metadata": {},
   "outputs": [],
   "source": []
  },
  {
   "cell_type": "code",
   "execution_count": null,
   "id": "1e1eae22-161f-4048-a7c5-082015541603",
   "metadata": {},
   "outputs": [],
   "source": [
    "# label.label['config']['actionLabelData']"
   ]
  },
  {
   "cell_type": "code",
   "execution_count": null,
   "id": "eb3ad047-f197-4820-b4d2-4d6862d0e323",
   "metadata": {},
   "outputs": [
    {
     "name": "stderr",
     "output_type": "stream",
     "text": [
      "  0%|                                                                                                  | 0/42 [00:00<?, ?it/s]2022-09-19 06:19:42.623 | INFO     | avcv.utils:images_to_video:267 - Write video, output_size: (600, 400)\n"
     ]
    },
    {
     "name": "stdout",
     "output_type": "stream",
     "text": [
      "[>>>>>>>>>>>>>>>>>>>>>>>>>>>>>>>] 15/15, 230.2 task/s, elapsed: 0s, ETA:     0s"
     ]
    },
    {
     "name": "stderr",
     "output_type": "stream",
     "text": [
      "2022-09-19 06:19:42.691 | INFO     | avcv.utils:images_to_video:277 - -> /home/anhvth8/gitprojects/YOLOX/vis/hungng_Sensing_Session0_CAMc_1b_2c_3a_4c_5b_6b_7b_8a_9a_10a_11b_12a_13a_14b_15b_16f_17a_18a_19a_20b_eating_0014.mp4\n",
      "  0%|                                                                                                  | 0/42 [00:00<?, ?it/s]\n"
     ]
    }
   ],
   "source": [
    "!mkdir -p vis\n",
    "for json_paths in tqdm(list_json_paths):\n",
    "    v = mmcv.VideoReader(json_paths['video_path'])\n",
    "    vis = []\n",
    "    t = len(v)\n",
    "    label = Label(mmcv.load(json_paths['label_path']), v)\n",
    "    for i, frame in enumerate(v):\n",
    "        actions = label.check_action_at_frame_idx(i)\n",
    "        if len(actions):\n",
    "            put_text(frame, (0, 100), f'Action: {actions[0]}', color=(0, 255, 0))\n",
    "        vis.append(frame)\n",
    "    vname = get_name(json_paths['video_path'])\n",
    "    images_to_video(vis, f'vis/{vname}.mp4', output_size=(600, 400), verbose=1)\n",
    "    break"
   ]
  },
  {
   "cell_type": "code",
   "execution_count": null,
   "id": "cd047d32-2eef-4898-aea9-01efbbe71f25",
   "metadata": {},
   "outputs": [],
   "source": [
    "# label.label"
   ]
  },
  {
   "cell_type": "code",
   "execution_count": null,
   "id": "554fce2b-98c5-4b87-9b7b-3507a8ee1cce",
   "metadata": {},
   "outputs": [],
   "source": []
  }
 ],
 "metadata": {
  "kernelspec": {
   "display_name": "Python 3 (ipykernel)",
   "language": "python",
   "name": "python3"
  }
 },
 "nbformat": 4,
 "nbformat_minor": 5
}
