{
 "cells": [
  {
   "cell_type": "code",
   "execution_count": null,
   "id": "2ea9dc25-1b38-4db6-8377-e1607ac9c7a5",
   "metadata": {},
   "outputs": [],
   "source": [
    "from avcv.all import *"
   ]
  },
  {
   "cell_type": "code",
   "execution_count": null,
   "id": "70eac48b-faf1-4050-bf6c-146ba92eea61",
   "metadata": {},
   "outputs": [
    {
     "data": {
      "text/plain": [
       "'/home/anhvth8/gitprojects/YOLOX'"
      ]
     },
     "execution_count": null,
     "metadata": {},
     "output_type": "execute_result"
    }
   ],
   "source": [
    "pwd"
   ]
  },
  {
   "cell_type": "code",
   "execution_count": null,
   "id": "25d8c4c7-859c-4e1c-bdea-885fa383c0bb",
   "metadata": {},
   "outputs": [
    {
     "name": "stdout",
     "output_type": "stream",
     "text": [
      "pred_face_on_train.json  pred_food_on_train.json\n",
      "pred_face_on_val.json    pred_food_on_val.json\n"
     ]
    }
   ],
   "source": [
    "ls /home/anhvth8/gitprojects/YOLOX/.cache/out_jsons"
   ]
  },
  {
   "cell_type": "code",
   "execution_count": null,
   "id": "05b66e82-7a4c-4c6f-b507-b493d4f87155",
   "metadata": {},
   "outputs": [],
   "source": [
    "def get_data(video_name):\n",
    "    pred_json_path = f'/home/anhvth8/gitprojects/YOLOX/.cache/raw_video_predict_face_food/{video_name}/annotations/pred_mb2_face_food.json'\n",
    "    label_path = f'/data/DMS_Behavior_Detection/RawVideos/Action_Eating/tunm13_Sensing_Session0_CAMc_1b_2b_3a_4c_5b_6b_7b_8a_9a_10a_11b_12a_13a_14b_15b_16f_17a_18a_19a_20b/{video_name}.mp4'\n",
    "    assert osp.exists(pred_json_path), pred_json_path\n",
    "    assert osp.exists(label_path), label_path\n",
    "    return dict(\n",
    "        pred_json_path=pred_json_path,\n",
    "        label_path = label_path\n",
    "    )"
   ]
  },
  {
   "cell_type": "code",
   "execution_count": null,
   "id": "7ec8dcda-e35c-49dd-9be6-d25004f0103f",
   "metadata": {},
   "outputs": [
    {
     "data": {
      "text/plain": [
       "12"
      ]
     },
     "execution_count": null,
     "metadata": {},
     "output_type": "execute_result"
    }
   ],
   "source": [
    "video_names  = os.listdir('/home/anhvth8/gitprojects/YOLOX/.cache/raw_video_predict_face_food/')\n",
    "\n",
    "len(video_names)"
   ]
  },
  {
   "cell_type": "code",
   "execution_count": null,
   "id": "4f1a01fe-b866-4275-be20-90daa425d751",
   "metadata": {},
   "outputs": [],
   "source": [
    "get_data"
   ]
  }
 ],
 "metadata": {
  "kernelspec": {
   "display_name": "Python 3 (ipykernel)",
   "language": "python",
   "name": "python3"
  }
 },
 "nbformat": 4,
 "nbformat_minor": 5
}
