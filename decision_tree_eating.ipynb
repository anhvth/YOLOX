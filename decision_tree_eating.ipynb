{
 "cells": [
  {
   "cell_type": "code",
   "execution_count": null,
   "id": "2ea9dc25-1b38-4db6-8377-e1607ac9c7a5",
   "metadata": {},
   "outputs": [],
   "source": [
    "from avcv.all import *\n",
    "import torch, torch.nn as nn\n",
    "from dms_drowsiness.video_writer import Board\n",
    "import onnxruntime\n",
    "import numpy as np, cv2\n",
    "from PIL import Image\n",
    "from ple.all import *\n"
   ]
  },
  {
   "cell_type": "code",
   "execution_count": null,
   "id": "70eac48b-faf1-4050-bf6c-146ba92eea61",
   "metadata": {},
   "outputs": [],
   "source": [
    "class Label:\n",
    "    def __init__(self, label, video):\n",
    "        self.label = label\n",
    "        self.video = video\n",
    "        \n",
    "    def check_action_at_frame_idx(self, i):\n",
    "        if isinstance(i, int):\n",
    "            i = i/self.video.fps\n",
    "            \n",
    "        actions = []\n",
    "        for action in self.label['annotation']['actionAnnotationList']:\n",
    "            if i >= action['start'] and i < action['end']:\n",
    "                action_idx = action['action']\n",
    "                action_name = self.actionid2name[action_idx]\n",
    "                actions.append(action_name)\n",
    "        return actions\n",
    "    @property\n",
    "    def actionid2name(self):\n",
    "        if hasattr(self, '_actionid2name'):\n",
    "            return self._actionid2name\n",
    "        ret = dict()\n",
    "        for actionLabel in self.label['config']['actionLabelData']:\n",
    "            ret[actionLabel['id']] = actionLabel['name']\n",
    "        self._actionid2name = ret\n",
    "        return ret"
   ]
  },
  {
   "cell_type": "code",
   "execution_count": null,
   "id": "05b66e82-7a4c-4c6f-b507-b493d4f87155",
   "metadata": {},
   "outputs": [],
   "source": [
    "def get_data(label_path, label_type='food'):\n",
    "    if label_type == 'food':\n",
    "        video_name = get_name(label_path)\n",
    "        pred_json_path = f'/home/anhvth8/gitprojects/YOLOX/.cache/raw_video_predict_face_food/{video_name}/annotations/pred_mb2_face_food.json'\n",
    "        root_video_name = '_'.join(video_name.split('_')[:-2])\n",
    "        video_path = label_path.replace('.json', '.mp4')\n",
    "        raw_feat_path = pred_json_path.replace('.json', '_2_raw_outputs.pkl')\n",
    "    elif label_type == 'phone/cigarret':\n",
    "        pred_json_path = f'/home/anhvth8/gitprojects/YOLOX/.cache/raw_video_predict_face_food/{video_name}/annotations/pred_mb2_face_food.json'\n",
    "        t = 'smoking' if 'smoking' in video_name else 'mobile_usage'\n",
    "        label_path = f'/data/DMS_Behavior_Detection/mobile_cigarret_foreignerUS/training/yoon/{t}/{video_name}.json'\n",
    "        video_path = label_path.replace('.json', '.mp4')\n",
    "        raw_feat_path = pred_json_path.replace('.json', '_2_raw_outputs.pkl')\n",
    "    else:\n",
    "        raise NotImplementedError\n",
    "    assert osp.exists(pred_json_path), f'404 {pred_json_path}'\n",
    "    assert osp.exists(label_path), f'404 {label_path}'\n",
    "    assert osp.exists(video_path), f'404 {video_path}'\n",
    "    assert osp.exists(raw_feat_path), f'404 {raw_feat_path}'\n",
    "    \n",
    "    return dict(\n",
    "        pred_json_path=pred_json_path,\n",
    "        label_path = label_path,\n",
    "        video_path=video_path,\n",
    "        raw_feat_path=raw_feat_path\n",
    "    )"
   ]
  },
  {
   "cell_type": "code",
   "execution_count": null,
   "id": "59871c92-bf9f-4db0-a692-70a37d09d3f1",
   "metadata": {},
   "outputs": [
    {
     "name": "stdout",
     "output_type": "stream",
     "text": [
      "404 /home/anhvth8/gitprojects/YOLOX/.cache/raw_video_predict_face_food/hungng_Sensing_Session0_CAMc_1b_2c_3a_4c_5b_6b_7b_8a_9a_10a_11b_12a_13a_14b_15b_16f_17a_18a_19a_20b_eating_0017/annotations/pred_mb2_face_food_2_raw_outputs.pkl\n",
      "404 /home/anhvth8/gitprojects/YOLOX/.cache/raw_video_predict_face_food/hoangnh42_Sensing_Session0_CAMc_1b_2b_3a_4c_5b_6b_7b_8a_9a_10b_11b_12b_13b_14a_15b_16f_17a_18a_19a_20b_eating_0011/annotations/pred_mb2_face_food_2_raw_outputs.pkl\n",
      "len(label_paths)=67\n"
     ]
    },
    {
     "data": {
      "text/plain": [
       "107"
      ]
     },
     "execution_count": null,
     "metadata": {},
     "output_type": "execute_result"
    }
   ],
   "source": [
    "list_json_paths = []\n",
    "\n",
    "\n",
    "label_paths  = glob('/data/DMS_Behavior_Detection/RawVideos/Action_Eating/**/*.json', recursive=True)\n",
    "for label_path in label_paths:\n",
    "    try:\n",
    "        json_paths = get_data(label_path, 'food')\n",
    "        list_json_paths.append(json_paths)\n",
    "    except Exception as e:\n",
    "        print(e)\n",
    "        pass\n",
    "\n",
    "label_paths  = glob('/data/DMS_Behavior_Detection/mobile_cigarret_foreignerUS/*/**/*.json', recursive=True)\n",
    "print(f'{len(label_paths)=}')\n",
    "for label_path in label_paths:\n",
    "    try:\n",
    "        json_paths = get_data(label_path, 'food')\n",
    "        list_json_paths.append(json_paths)\n",
    "    except Exception as e:\n",
    "        print(e)\n",
    "        pass\n",
    "len(list_json_paths)"
   ]
  },
  {
   "cell_type": "code",
   "execution_count": null,
   "id": "fc0f4d6f-18c9-490b-b6ab-844aea224a41",
   "metadata": {},
   "outputs": [],
   "source": []
  },
  {
   "cell_type": "code",
   "execution_count": null,
   "id": "fed6fdc1-b7d3-4a4d-a43b-a37012352265",
   "metadata": {},
   "outputs": [
    {
     "data": {
      "text/plain": [
       "[{'id': 1, 'name': 'cigarette'},\n",
       " {'id': 2, 'name': 'food/drink'},\n",
       " {'id': 3, 'name': 'phone'},\n",
       " {'id': 4, 'name': 'face'},\n",
       " {'id': 5, 'name': 'eye'},\n",
       " {'id': 6, 'name': 'mouth'}]"
      ]
     },
     "execution_count": null,
     "metadata": {},
     "output_type": "execute_result"
    }
   ],
   "source": [
    "cats = mmcv.load(list_json_paths[0]['pred_json_path'])['categories']\n",
    "cats"
   ]
  },
  {
   "cell_type": "markdown",
   "id": "c136e858-8416-45a1-9633-505ad350fc86",
   "metadata": {},
   "source": [
    "## Read 2d video feat"
   ]
  },
  {
   "cell_type": "code",
   "execution_count": null,
   "id": "c77eeffe-cb3a-4757-b855-eae0aeb39253",
   "metadata": {},
   "outputs": [],
   "source": [
    "def convert_flatten_to_2d_feature(flatten_sample):\n",
    "    feat_sizes = [416//8, 416//16, 416//32]\n",
    "    # reg_orig_shape = np.array(reg_orig_shape)**2\n",
    "    cur_i = 0\n",
    "    feats = []\n",
    "    for feat_size in feat_sizes:\n",
    "        a = cur_i\n",
    "        b = a+feat_size**2\n",
    "        cur_i = b\n",
    "        feats.append(flatten_sample[a:b].reshape(feat_size, feat_size, -1))\n",
    "    return feats\n",
    "\n",
    "def read_raw_feat_one_video(path):\n",
    "    data = dict(mmcv.load(path))\n",
    "    # for k in data:\n",
    "    #     data[k] = convert_flatten_to_2d_feature(data[k])\n",
    "    return data\n",
    "    # list_json_paths[0]['raw_feat_path']"
   ]
  },
  {
   "cell_type": "code",
   "execution_count": null,
   "id": "c299aeee-1815-4238-b023-9400d8dbab32",
   "metadata": {},
   "outputs": [],
   "source": [
    "# "
   ]
  },
  {
   "cell_type": "code",
   "execution_count": null,
   "id": "425ddfbe-8cea-4686-8dd3-e6504d19d48b",
   "metadata": {},
   "outputs": [],
   "source": [
    "def anns2tensor(img, anns):\n",
    "    h, w = img['height'], img['width']\n",
    "    tensor = []\n",
    "    for ann in anns:\n",
    "        x,y,w,h = ann['bbox']\n",
    "        x /=img['width']\n",
    "        w /=img['width']\n",
    "        y /=img['height']\n",
    "        h /=img['height']\n",
    "        s = ann['score']\n",
    "        cat = ann['category_id']\n",
    "        tensor.append([x,y,w,h,s, cat])\n",
    "    return np.array(tensor)"
   ]
  },
  {
   "cell_type": "code",
   "execution_count": null,
   "id": "05454863-cca5-436e-8c2e-3b5152f0ac14",
   "metadata": {},
   "outputs": [],
   "source": [
    "def collect_data(inp):\n",
    "    index, json_paths = inp\n",
    "    v = mmcv.VideoReader(json_paths['video_path'])\n",
    "    # t = len(v)\n",
    "    label = Label(mmcv.load(json_paths['label_path']), v)\n",
    "    cc = CocoDataset(json_paths['pred_json_path'])\n",
    "    data = []\n",
    "    raw_feat2d = read_raw_feat_one_video(json_paths['raw_feat_path'])\n",
    "    for i, frame in enumerate(v):\n",
    "        actions = label.check_action_at_frame_idx(i)\n",
    "        anns = cc.gt.imgToAnns[i]\n",
    "        img = cc.gt.imgs[i]\n",
    "        tensor = None#anns2tensor(img, anns)\n",
    "        img_path = osp.join(cc.img_dir, img['file_name'])\n",
    "        \n",
    "        data.append((tensor, actions[0] if len(actions) else 'none' , \n",
    "                     index, img_path, img['id'], raw_feat2d[img['id']]))\n",
    "        \n",
    "    return data\n"
   ]
  },
  {
   "cell_type": "code",
   "execution_count": null,
   "id": "1e797d91-ff30-46a1-beb8-d24b1626c860",
   "metadata": {},
   "outputs": [],
   "source": [
    "\n",
    "def get_y(actions):\n",
    "    return action2id[str(actions)]\n",
    "\n",
    "def get_x_tensor(tensor):\n",
    "    zt = np.zeros([1,6], dtype=np.float32)\n",
    "    def get_tensor_cat(cat):\n",
    "        if len(tensor) == 0:\n",
    "            return zt\n",
    "        \n",
    "        _t = tensor[tensor[:,-1] ==cat]\n",
    "        \n",
    "        if len(_t):\n",
    "            max_id = _t[:,-2].argmax()\n",
    "            _t = _t[max_id][None]\n",
    "        else:\n",
    "            return zt\n",
    "            \n",
    "        return _t\n",
    "    return np.concatenate([get_tensor_cat(i) for i in range(1, 7)])"
   ]
  },
  {
   "cell_type": "code",
   "execution_count": null,
   "id": "872d0034-1b5d-4b68-ada0-ca5decb5ff4c",
   "metadata": {},
   "outputs": [
    {
     "data": {
      "text/plain": [
       "([[0, 2704, 1456, 28, 52], [2704, 3380, 364, 14, 26], [3380, 3549, 91, 7, 13]],\n",
       " 546,\n",
       " '224_416')"
      ]
     },
     "execution_count": null,
     "metadata": {},
     "output_type": "execute_result"
    }
   ],
   "source": [
    "def get_M(input_size = [224, 416], num_cls=6):\n",
    "    \"\"\"\n",
    "        return list of mapping [old_start, old_end, new_start, new_end ]\n",
    "    \"\"\"\n",
    "    M = []\n",
    "    target_f_size = []\n",
    "    \n",
    "    cur_i = 0\n",
    "    o_cur_i = 0\n",
    "\n",
    "    for i in [8,16,32]:\n",
    "        h, w = input_size\n",
    "        _h, _w = h//i, w//i\n",
    "        _oh = _ow = 416//i\n",
    "\n",
    "        a, b = cur_i,cur_i +_h*_w\n",
    "        oa, ob = o_cur_i,o_cur_i +_oh*_oh\n",
    "        cur_i = b\n",
    "        o_cur_i = ob\n",
    "        M.append([oa, ob, _h*_w, _h, _w])\n",
    "        \n",
    "    return M, _h*_w*num_cls\n",
    "\n",
    "INP_SHAPE = (224,416)\n",
    "INP_SHAPE_STR = '_'.join([str(_) for _ in INP_SHAPE])\n",
    "M, IN_CHANNEL_CLS = get_M(INP_SHAPE)\n",
    "M, IN_CHANNEL_CLS, INP_SHAPE_STR"
   ]
  },
  {
   "cell_type": "code",
   "execution_count": null,
   "id": "be26ca64-21a5-4456-9215-a3caa6e8527b",
   "metadata": {},
   "outputs": [],
   "source": [
    "\n",
    "def convert_f(f):\n",
    "    fs = []\n",
    "    for oa,ob,ab,_,_ in M:\n",
    "        # print(oa,ob,ab)\n",
    "        fs.append(f[oa:ob][:ab].reshape(-1, 11))\n",
    "    feat1d = np.concatenate(fs)\n",
    "    return preproc_feat1d(feat1d)\n",
    "\n",
    "def preproc_feat1d(x):\n",
    "    if isinstance(x, np.ndarray):\n",
    "        x = torch.from_numpy(x)[None]\n",
    "    x = x[...,4:5]*x[...,5:]\n",
    "    xs = []\n",
    "    cur_i = 0\n",
    "    for i, _ in enumerate(M):\n",
    "        h,w = _[-2:]\n",
    "        _x = x[:, cur_i:cur_i+h*w].reshape([-1, h, w, 6]).permute([0,3,1,2])\n",
    "\n",
    "        pool_size = 2**(2-i)\n",
    "        _x = nn.functional.max_pool2d(_x, pool_size)\n",
    "        cur_i += h*w\n",
    "        xs.append(_x)\n",
    "    fuse = sum(xs)\n",
    "    return fuse.numpy()[0]"
   ]
  },
  {
   "cell_type": "code",
   "execution_count": null,
   "id": "69242eba-0891-47ab-b8a3-59e5e3fc9537",
   "metadata": {},
   "outputs": [
    {
     "name": "stdout",
     "output_type": "stream",
     "text": [
      "Load data from CACHE_DF_PATH='/tmp/eating_cache_data_df.pkl'\n",
      "CPU times: user 53.6 s, sys: 25.1 s, total: 1min 18s\n",
      "Wall time: 1min 18s\n"
     ]
    }
   ],
   "source": [
    "%%time\n",
    "CACHE_DF_PATH = '/tmp/eating_cache_data_df.pkl'\n",
    "if not osp.exists(CACHE_DF_PATH):\n",
    "    print('Collecting data from scratch')\n",
    "    data = multi_thread(collect_data, list(enumerate(list_json_paths)))\n",
    "    all_data = []\n",
    "    for _ in data: all_data += _\n",
    "\n",
    "    df = pd.DataFrame(all_data, columns=['tensor', 'action', 'video_index', 'img_path', 'img_id', 'feat1d'])\n",
    "    ids = df[df['action'] == 'smocking'].index\n",
    "    df.loc[ids, 'action'] = 'smoking'\n",
    "\n",
    "    df['x'] = df.feat1d.apply(convert_f)\n",
    "    df['y'] = df['action'].apply(get_y)\n",
    "else:\n",
    "    print(f'Load data from {CACHE_DF_PATH=}')\n",
    "    df = mmcv.load(CACHE_DF_PATH)"
   ]
  },
  {
   "cell_type": "code",
   "execution_count": null,
   "id": "85b1b388-b244-41f7-9ecb-e8ec8b83780e",
   "metadata": {},
   "outputs": [],
   "source": [
    "from scripts.export_onnx import model_wraper, mb2_yolox"
   ]
  },
  {
   "cell_type": "code",
   "execution_count": null,
   "id": "c7b42185-0a97-4642-8e3e-1c6f8acb9e5d",
   "metadata": {},
   "outputs": [],
   "source": [
    "def load_image_tensor(path):\n",
    "    img = mmcv.imread(path, 0)\n",
    "    img = mmcv.imrescale(img, INP_SHAPE)\n",
    "    img = mmcv.impad(img, shape=INP_SHAPE, pad_val=114)\n",
    "    img = img[None].astype(np.float32)\n",
    "    return torch.from_numpy(img)\n",
    "\n",
    "class ImageDataset:\n",
    "    def __init__(self, img_paths, y=None):\n",
    "        self.img_paths = img_paths\n",
    "        self.y = y if y is not None else [0]*len(img_paths)\n",
    "    def __len__(self):\n",
    "        return len(self.img_paths)\n",
    "    def __getitem__(self, i):\n",
    "        return load_image_tensor(self.img_paths[i]), self.y[i]\n",
    "    \n",
    "# ds = ImageDataset(df.img_path.values)\n",
    "# dl = td.DataLoader(ds, 2)\n",
    "# x = next(iter(dl))\n"
   ]
  },
  {
   "cell_type": "code",
   "execution_count": null,
   "id": "ee57b8d7-e7c1-401d-90de-7ec4239fe767",
   "metadata": {},
   "outputs": [
    {
     "name": "stdout",
     "output_type": "stream",
     "text": [
      "{'eating': 0, 'none': 1, 'mobile usage': 2, 'smoking': 3}\n"
     ]
    }
   ],
   "source": [
    "_id2action = dict(enumerate(df['action'].apply(str).unique().tolist()))\n",
    "action2id = {v:k for k, v in _id2action.items()}\n",
    "print(action2id)\n"
   ]
  },
  {
   "cell_type": "markdown",
   "id": "3f549bee-6dc6-410d-b160-f36e32f76fa7",
   "metadata": {},
   "source": [
    "## Split train/val"
   ]
  },
  {
   "cell_type": "code",
   "execution_count": null,
   "id": "b6af5293-7082-4d03-828d-79cda12c6f98",
   "metadata": {},
   "outputs": [],
   "source": [
    "# df.x.values"
   ]
  },
  {
   "cell_type": "code",
   "execution_count": null,
   "id": "6c1a7588-76e7-4fdc-a777-49d8ead53c1d",
   "metadata": {},
   "outputs": [
    {
     "name": "stdout",
     "output_type": "stream",
     "text": [
      "len(df_train)=65748, len(df_val)=18277\n"
     ]
    }
   ],
   "source": [
    "from sklearn.model_selection import train_test_split\n",
    "\n",
    "labels = df.action.unique().tolist()\n",
    "labels\n",
    "\n",
    "df_train = df[df.video_index.apply(lambda i: i % 5 != 0)]\n",
    "df_val = df[df.video_index.apply(lambda i: i % 5 == 0)]\n",
    "print(f'{len(df_train)=}, {len(df_val)=}')\n",
    "\n",
    "def df2xy(df):\n",
    "    return df.img_path.values, np.array(df.y.tolist())\n",
    "\n",
    "xtrain, ytrain = df2xy(df_train)\n",
    "xval, yval = df2xy(df_val)"
   ]
  },
  {
   "cell_type": "markdown",
   "id": "4ec338a9-570d-469d-bdcb-7a1269c8e3cb",
   "metadata": {},
   "source": [
    "## Dataset"
   ]
  },
  {
   "cell_type": "code",
   "execution_count": null,
   "id": "7b1d3548-2aba-4cad-8061-90e04785f864",
   "metadata": {},
   "outputs": [],
   "source": [
    "# xtrain"
   ]
  },
  {
   "cell_type": "code",
   "execution_count": null,
   "id": "756477e9-5a7c-4b9b-9b48-2d96c42782db",
   "metadata": {},
   "outputs": [],
   "source": [
    "import torch.utils.data as td\n",
    "class YOutDataset(ImageDataset):\n",
    "    \n",
    "#     def __init__(self, x,y):\n",
    "#         self.x, self.y = x,y\n",
    "        \n",
    "#     def __len__(self):\n",
    "#         return len(self.x)\n",
    "    def __getitem__(self, idx):\n",
    "        res = super().__getitem__(idx)\n",
    "        return  *res,self.img_paths[idx]\n",
    "        # return self.x[idx].astype(np.float32), self.y[idx].astype(np.int64)\n"
   ]
  },
  {
   "cell_type": "markdown",
   "id": "33b478af-b026-44b0-8793-3230f94c8725",
   "metadata": {},
   "source": [
    "### Get sample data"
   ]
  },
  {
   "cell_type": "code",
   "execution_count": null,
   "id": "eaba085e-cb7f-4f7f-a1b5-ab5eea14cdec",
   "metadata": {},
   "outputs": [],
   "source": [
    "ds = YOutDataset(df.img_path, df.y)\n",
    "dl = td.DataLoader(ds, 2, shuffle=1)\n",
    "x,y, img_paths = next(iter(dl))"
   ]
  },
  {
   "cell_type": "markdown",
   "id": "820037a3-b301-4ee8-aeae-aa912e8b361a",
   "metadata": {},
   "source": [
    "## MyLit"
   ]
  },
  {
   "cell_type": "code",
   "execution_count": null,
   "id": "ed4c64c4-9c66-4790-b847-e6b1fa2b0e2f",
   "metadata": {},
   "outputs": [],
   "source": [
    "from scripts.export_onnx import mb2_yolox, SimpleCLS2D"
   ]
  },
  {
   "cell_type": "code",
   "execution_count": null,
   "id": "248583ce-9652-47d0-8fe7-dd5288223cd2",
   "metadata": {},
   "outputs": [],
   "source": [
    "class ModelWrapper(nn.Module):\n",
    "    def __init__(self):\n",
    "        super().__init__()\n",
    "        self.mb2_yolox = mb2_yolox.requires_grad_(False)\n",
    "        self.classifier = SimpleCLS2D()\n",
    "        \n",
    "    def forward(self, img):\n",
    "        self.mb2_yolox.eval()\n",
    "        x = self.mb2_yolox(img)\n",
    "        x = self.classifier(x)\n",
    "        return x"
   ]
  },
  {
   "cell_type": "code",
   "execution_count": null,
   "id": "8ada74f7-2332-431e-a2d6-d0edaa6616d1",
   "metadata": {},
   "outputs": [],
   "source": [
    "\n",
    "\n",
    "\n",
    "class MyLit(LitModel):\n",
    "    def forward_loss(self, batch, batch_idx, mode):\n",
    "        x, y = batch[:2]\n",
    "        y_onehot = nn.functional.one_hot(y, 4).float()\n",
    "        probs = self(x)\n",
    "        loss = self.loss_fn(probs, y_onehot)\n",
    "        \n",
    "        mask = y!=1\n",
    "        if mask.sum():\n",
    "            accs = (y_onehot[mask] == (probs[mask]>0.5).float()).float().mean()\n",
    "            self.log(f\"{mode}_acc\", accs, prog_bar=True,\n",
    "                     rank_zero_only=True, on_epoch=True, batch_size=mask.sum())\n",
    "        self.log(f\"{mode}_loss\", loss, prog_bar=True,\n",
    "                 rank_zero_only=True, on_epoch=True)\n",
    "\n",
    "        return loss\n",
    "    def training_step(self, b,i): return self.forward_loss(b,i,'training')\n",
    "    def validation_step(self, b,i): return self.forward_loss(b,i,'val')"
   ]
  },
  {
   "cell_type": "markdown",
   "id": "c98275d6-2d3f-42fe-bf40-33f76108a9fe",
   "metadata": {},
   "source": [
    "## PLData"
   ]
  },
  {
   "cell_type": "code",
   "execution_count": null,
   "id": "e7a5ebc6-0bd4-4530-b1ca-c60698208861",
   "metadata": {},
   "outputs": [],
   "source": []
  },
  {
   "cell_type": "code",
   "execution_count": null,
   "id": "3d146644-d40d-4608-884b-5d7cbd6ab247",
   "metadata": {},
   "outputs": [
    {
     "name": "stdout",
     "output_type": "stream",
     "text": [
      "torch.Size([64, 1, 224, 416]) torch.Size([64])\n"
     ]
    }
   ],
   "source": [
    "from ple.all import *\n",
    "import torch.utils.data as td\n",
    "import pytorch_lightning as pl\n",
    "from fastcore.all import *\n",
    "\n",
    "class PLData(pl.LightningDataModule):\n",
    "    def __init__(self, **kwargs):\n",
    "        super().__init__()\n",
    "        store_attr(**kwargs)\n",
    "\n",
    "    def train_dataloader(self):\n",
    "        dataset = YOutDataset(xtrain, ytrain)\n",
    "        return td.DataLoader(dataset, self.batch_size, num_workers=self.num_workers, drop_last=True, shuffle=True)\n",
    "\n",
    "    def val_dataloader(self):\n",
    "        dataset = YOutDataset(xval, yval)\n",
    "        return td.DataLoader(dataset, self.batch_size, num_workers=self.num_workers,drop_last=True)\n",
    "pldata = PLData(batch_size=64, num_workers=1)\n",
    "trainloader = pldata.train_dataloader()\n",
    "x,y, img_paths = next(iter(trainloader))\n",
    "print(x.shape, y.shape)"
   ]
  },
  {
   "cell_type": "markdown",
   "id": "096ac415-3522-4458-b3be-9216a3d323a4",
   "metadata": {},
   "source": [
    "## TriStageExp"
   ]
  },
  {
   "cell_type": "code",
   "execution_count": null,
   "id": "8b6bbfa7-a7af-4b53-840d-50ad8231d4b5",
   "metadata": {},
   "outputs": [],
   "source": [
    "class TriStageExp(BaseExp):\n",
    "\n",
    "    def __init__(self, exp_name='EXPNAME', \n",
    "                 batch_size=64, \n",
    "                 num_workers=2, \n",
    "                 devices=2,\n",
    "                 strategy='dp', \n",
    "                 **kwargs):\n",
    "        super().__init__()\n",
    "        store_attr(**kwargs)\n",
    "\n",
    "    def get_model(self):\n",
    "        dl = self.get_data_loader().train_dataloader()\n",
    "        sched = fn_schedule_cosine_with_warmpup_decay_timm(\n",
    "            num_epochs=self.max_epochs,\n",
    "            num_steps_per_epoch=len(dl)//self.devices,\n",
    "            num_epochs_per_cycle=self.max_epochs//self.num_lr_cycles,\n",
    "            min_lr=1/100,\n",
    "            cycle_decay=0.7,\n",
    "        )\n",
    "        optim = lambda params:torch.optim.Adam(params)\n",
    "\n",
    "        return MyLit(self.model, create_optimizer_fn=optim,\n",
    "                                   create_lr_scheduler_fn=sched, loss_fn=self.loss_fn)\n",
    "\n",
    "    def get_data_loader(self):\n",
    "        return PLData(batch_size=self.batch_size, num_workers=self.num_workers)\n",
    "\n",
    "    def get_trainer(self, **kwargs):\n",
    "        from ple.trainer import get_trainer\n",
    "        return get_trainer(self.exp_name, \n",
    "                              max_epochs=self.max_epochs, \n",
    "                              gpus=self.devices,\n",
    "                           strategy=self.strategy,\n",
    "                           **kwargs,\n",
    "\n",
    "                          )\n",
    "\n",
    "exp = TriStageExp(exp_name=f'simple_nn/{INP_SHAPE_STR}', batch_size=256, \n",
    "                  num_workers=4, devices=1, model=ModelWrapper(), max_epochs=30,\n",
    "                 loss_fn = BinaryFocalLoss())\n"
   ]
  },
  {
   "cell_type": "code",
   "execution_count": null,
   "id": "6be51077-cf95-42ef-9a17-81cb343c7a70",
   "metadata": {},
   "outputs": [
    {
     "name": "stderr",
     "output_type": "stream",
     "text": [
      "2022-09-21 06:58:12.017 | INFO     | ple.lit_model:fn_schedule_cosine_with_warmpup_decay_timm:66 - num_cycles=3\n",
      "/home/anhvth8/.conda/envs/py38/lib/python3.8/site-packages/pytorch_lightning/core/module.py:386: UserWarning: You are trying to `self.log()` but the `self.trainer` reference is not registered on the model yet. This is most likely because the model hasn't been passed to the `Trainer`\n",
      "  rank_zero_warn(\n"
     ]
    },
    {
     "data": {
      "text/plain": [
       "tensor(0.1630, grad_fn=<MeanBackward0>)"
      ]
     },
     "execution_count": null,
     "metadata": {},
     "output_type": "execute_result"
    }
   ],
   "source": [
    "lit_model = exp.get_model()\n",
    "lit_model.cpu().training_step([x,y],1)"
   ]
  },
  {
   "cell_type": "code",
   "execution_count": null,
   "id": "5146a8f9-dc24-43ed-8442-469982582db0",
   "metadata": {},
   "outputs": [
    {
     "name": "stderr",
     "output_type": "stream",
     "text": [
      "2022-09-21 06:58:13.773 | INFO     | ple.trainer:get_trainer:34 - Log root dir: lightning_logs/simple_nn/224_416/13\n",
      "GPU available: True (cuda), used: True\n",
      "TPU available: False, using: 0 TPU cores\n",
      "IPU available: False, using: 0 IPUs\n",
      "HPU available: False, using: 0 HPUs\n",
      "Missing logger folder: lightning_logs/simple_nn/224_416/13/tb_logs/lightning_logs\n",
      "LOCAL_RANK: 0 - CUDA_VISIBLE_DEVICES: [0,1,2,3,4,5,6,7]\n",
      "\n",
      "  | Name    | Type            | Params\n",
      "--------------------------------------------\n",
      "0 | model   | ModelWrapper    | 851 K \n",
      "1 | loss_fn | BinaryFocalLoss | 0     \n",
      "--------------------------------------------\n",
      "21.2 K    Trainable params\n",
      "830 K     Non-trainable params\n",
      "851 K     Total params\n",
      "3.406     Total estimated model params size (MB)\n"
     ]
    },
    {
     "data": {
      "application/vnd.jupyter.widget-view+json": {
       "model_id": "",
       "version_major": 2,
       "version_minor": 0
      },
      "text/plain": [
       "Sanity Checking: 0it [00:00, ?it/s]"
      ]
     },
     "metadata": {},
     "output_type": "display_data"
    },
    {
     "data": {
      "application/vnd.jupyter.widget-view+json": {
       "model_id": "69428b2b85c748588302f317a6a196cc",
       "version_major": 2,
       "version_minor": 0
      },
      "text/plain": [
       "Training: 0it [00:00, ?it/s]"
      ]
     },
     "metadata": {},
     "output_type": "display_data"
    },
    {
     "data": {
      "application/vnd.jupyter.widget-view+json": {
       "model_id": "",
       "version_major": 2,
       "version_minor": 0
      },
      "text/plain": [
       "Validation: 0it [00:00, ?it/s]"
      ]
     },
     "metadata": {},
     "output_type": "display_data"
    },
    {
     "data": {
      "application/vnd.jupyter.widget-view+json": {
       "model_id": "",
       "version_major": 2,
       "version_minor": 0
      },
      "text/plain": [
       "Validation: 0it [00:00, ?it/s]"
      ]
     },
     "metadata": {},
     "output_type": "display_data"
    },
    {
     "data": {
      "application/vnd.jupyter.widget-view+json": {
       "model_id": "",
       "version_major": 2,
       "version_minor": 0
      },
      "text/plain": [
       "Validation: 0it [00:00, ?it/s]"
      ]
     },
     "metadata": {},
     "output_type": "display_data"
    },
    {
     "data": {
      "application/vnd.jupyter.widget-view+json": {
       "model_id": "",
       "version_major": 2,
       "version_minor": 0
      },
      "text/plain": [
       "Validation: 0it [00:00, ?it/s]"
      ]
     },
     "metadata": {},
     "output_type": "display_data"
    },
    {
     "data": {
      "application/vnd.jupyter.widget-view+json": {
       "model_id": "",
       "version_major": 2,
       "version_minor": 0
      },
      "text/plain": [
       "Validation: 0it [00:00, ?it/s]"
      ]
     },
     "metadata": {},
     "output_type": "display_data"
    },
    {
     "data": {
      "application/vnd.jupyter.widget-view+json": {
       "model_id": "",
       "version_major": 2,
       "version_minor": 0
      },
      "text/plain": [
       "Validation: 0it [00:00, ?it/s]"
      ]
     },
     "metadata": {},
     "output_type": "display_data"
    },
    {
     "data": {
      "application/vnd.jupyter.widget-view+json": {
       "model_id": "",
       "version_major": 2,
       "version_minor": 0
      },
      "text/plain": [
       "Validation: 0it [00:00, ?it/s]"
      ]
     },
     "metadata": {},
     "output_type": "display_data"
    },
    {
     "data": {
      "application/vnd.jupyter.widget-view+json": {
       "model_id": "",
       "version_major": 2,
       "version_minor": 0
      },
      "text/plain": [
       "Validation: 0it [00:00, ?it/s]"
      ]
     },
     "metadata": {},
     "output_type": "display_data"
    },
    {
     "data": {
      "application/vnd.jupyter.widget-view+json": {
       "model_id": "",
       "version_major": 2,
       "version_minor": 0
      },
      "text/plain": [
       "Validation: 0it [00:00, ?it/s]"
      ]
     },
     "metadata": {},
     "output_type": "display_data"
    },
    {
     "data": {
      "application/vnd.jupyter.widget-view+json": {
       "model_id": "",
       "version_major": 2,
       "version_minor": 0
      },
      "text/plain": [
       "Validation: 0it [00:00, ?it/s]"
      ]
     },
     "metadata": {},
     "output_type": "display_data"
    },
    {
     "data": {
      "application/vnd.jupyter.widget-view+json": {
       "model_id": "",
       "version_major": 2,
       "version_minor": 0
      },
      "text/plain": [
       "Validation: 0it [00:00, ?it/s]"
      ]
     },
     "metadata": {},
     "output_type": "display_data"
    }
   ],
   "source": [
    "trainer = exp.get_trainer()\n",
    "trainer.fit(lit_model, exp.get_data_loader())"
   ]
  },
  {
   "cell_type": "markdown",
   "id": "26a5b33e-a5f5-49c9-99cb-c145df1caf7a",
   "metadata": {},
   "source": [
    "# Test"
   ]
  },
  {
   "cell_type": "code",
   "execution_count": null,
   "id": "afc89400-a261-413f-919e-e700a4cb1d50",
   "metadata": {},
   "outputs": [],
   "source": [
    "# lit_model = exp.get_model();\n",
    "\n",
    "# lit_model.load_from_checkpoint('lightning_logs/simple_nn/00/ckpts/epoch=6-val_acc=0.74.ckpt', model=lit_model.model)\n",
    "# lit_model = lit_model.cuda().requires_grad_(False).eval()"
   ]
  },
  {
   "cell_type": "code",
   "execution_count": null,
   "id": "41a5b7bb-2023-4073-8a1e-4fbcd5cd99fd",
   "metadata": {},
   "outputs": [
    {
     "name": "stdout",
     "output_type": "stream",
     "text": [
      "[0.7657305002212524, 0.14158980548381805, 0.021903790533542633, 0.0381690114736557]\n"
     ]
    }
   ],
   "source": [
    "\n",
    "\n",
    "session = onnxruntime.InferenceSession('/home/anhvth8/gitprojects/YOLOX/out.onnx')\n",
    "\n",
    "def predict_onnx(img_path):\n",
    "    inp = load_image_tensor(img_path).numpy()[None]\n",
    "    ort_inputs = {session.get_inputs()[0].name: inp.astype(np.float32)}\n",
    "    probs = session.run(None, ort_inputs)[0]\n",
    "    return torch.from_numpy(probs).sigmoid().numpy().squeeze().tolist()\n",
    "\n",
    "res = predict_onnx('/tmp/guiemanhtest224.png')\n",
    "# res =[0.9980290532112122,0.09712985157966614,2.980232238769531e-07,0.0006951689720153809]\n",
    "print(res)"
   ]
  },
  {
   "cell_type": "markdown",
   "id": "2bfa0746-7c29-4958-9b33-d24b895d73c5",
   "metadata": {},
   "source": [
    "### Gửi em ảnh test"
   ]
  },
  {
   "cell_type": "code",
   "execution_count": null,
   "id": "4e0eac61-afaa-4718-9a17-e1e374db4121",
   "metadata": {},
   "outputs": [],
   "source": []
  },
  {
   "cell_type": "code",
   "execution_count": null,
   "id": "d0aa9821-333a-42f6-a93e-44bf8a718c66",
   "metadata": {},
   "outputs": [],
   "source": [
    "# st = torch.load('lightning_logs/simple_nn/224_416/03/ckpts/epoch=0-val_acc=0.86.ckpt')['state_dict']\n",
    "# new_st = {}\n",
    "# for k, v in st.items():\n",
    "#     new_st[k[6:]] = v\n",
    "# res = model_wraper.classifier.load_state_dict(new_st)\n",
    "# print(res)\n",
    "# model_wraper.eval().requires_grad_(False);"
   ]
  },
  {
   "cell_type": "code",
   "execution_count": null,
   "id": "615e8afb-9631-4ee1-adf8-9f9d54765330",
   "metadata": {},
   "outputs": [],
   "source": [
    "x,y,img_paths = next(iter(pldata.train_dataloader()))"
   ]
  },
  {
   "cell_type": "code",
   "execution_count": null,
   "id": "e29b9c3a-739b-41dd-8d77-323510af0e30",
   "metadata": {},
   "outputs": [
    {
     "data": {
      "image/png": "[encoded data removed]",
      "text/plain": [
       "<PIL.JpegImagePlugin.JpegImageFile image mode=RGB size=512x288>"
      ]
     },
     "execution_count": null,
     "metadata": {},
     "output_type": "execute_result"
    }
   ],
   "source": [
    "Image.open(img_paths[0])"
   ]
  },
  {
   "cell_type": "code",
   "execution_count": null,
   "id": "04c191bc-5d3c-4f70-aa97-6d7503a9a9c4",
   "metadata": {},
   "outputs": [],
   "source": [
    "# @torch.inference_mode()\n",
    "def predict_model_wrapper(img_path, model, device='cuda'):\n",
    "    model.eval().to(device)\n",
    "    with torch.no_grad():\n",
    "        img = load_image_tensor(img_path)[None].to(device)\n",
    "        probs = lit_model(img).cpu()\n",
    "    return probs[0].tolist()\n"
   ]
  },
  {
   "cell_type": "code",
   "execution_count": null,
   "id": "5e7ab36b-8ed5-4f23-9b39-a3e7ba3e526a",
   "metadata": {},
   "outputs": [
    {
     "name": "stdout",
     "output_type": "stream",
     "text": [
      "Num of val 22\n"
     ]
    },
    {
     "data": {
      "text/plain": [
       "{'pred_json_path': '/home/anhvth8/gitprojects/YOLOX/.cache/raw_video_predict_face_food/daniels_smoking_0035/annotations/pred_mb2_face_food.json',\n",
       " 'label_path': '/data/DMS_Behavior_Detection/mobile_cigarret_foreignerUS/training/daniels/smoking/daniels_smoking_0035.json',\n",
       " 'video_path': '/data/DMS_Behavior_Detection/mobile_cigarret_foreignerUS/training/daniels/smoking/daniels_smoking_0035.mp4',\n",
       " 'raw_feat_path': '/home/anhvth8/gitprojects/YOLOX/.cache/raw_video_predict_face_food/daniels_smoking_0035/annotations/pred_mb2_face_food_2_raw_outputs.pkl'}"
      ]
     },
     "execution_count": null,
     "metadata": {},
     "output_type": "execute_result"
    }
   ],
   "source": [
    "val_ids = df_val.video_index.unique().tolist()\n",
    "print('Num of val', len(val_ids))\n",
    "val_json_paths = [list_json_paths[i] for i in val_ids]\n",
    "# val_json_paths\n",
    "json_paths = np.random.choice(val_json_paths)\n",
    "json_paths"
   ]
  },
  {
   "cell_type": "code",
   "execution_count": null,
   "id": "078a6482-08db-46a7-8fba-bd936e776da3",
   "metadata": {},
   "outputs": [
    {
     "name": "stderr",
     "output_type": "stream",
     "text": [
      "2022-09-21 06:55:51.083 | INFO     | avcv.utils:images_to_video:267 - Write video, output_size: (800, 300)\n"
     ]
    },
    {
     "name": "stdout",
     "output_type": "stream",
     "text": [
      "[>>>>>>>>>>>>>>>>>>>>>>>>>>>] 1087/1087, 290.4 task/s, elapsed: 4s, ETA:     0s"
     ]
    },
    {
     "name": "stderr",
     "output_type": "stream",
     "text": [
      "2022-09-21 06:55:54.827 | INFO     | avcv.utils:images_to_video:277 - -> /home/anhvth8/gitprojects/YOLOX/vis.mp4\n"
     ]
    }
   ],
   "source": [
    "from IPython.display import clear_output\n",
    "cc = CocoDataset(json_paths['pred_json_path'])\n",
    "label = Label(mmcv.load(json_paths['label_path']), mmcv.VideoReader(json_paths['video_path']))\n",
    "vis_list = []\n",
    "raw_feat = read_raw_feat_one_video(json_paths['raw_feat_path'])\n",
    "def fv(img_id):\n",
    "    board = Board(num_lines=6, line_w=500)\n",
    "    frame = cc.visualize(img_id, score_thr=0.05);\n",
    "    img = cc.gt.imgs[img_id]\n",
    "    img_path = osp.join(cc.img_dir, img['file_name'])\n",
    "    # probs = predict_model_wrapper(img_path, lit_model, 'cuda:1')\n",
    "    probs = predict_onnx(img_path)\n",
    "    for class_idx in range(4):\n",
    "        action = _id2action[class_idx]\n",
    "        action = action + ' '*(12-len(action))\n",
    "        score = probs[class_idx]\n",
    "        board.set_line_text(class_idx, action, score)\n",
    "        \n",
    "    lbl = label.check_action_at_frame_idx(img_id)\n",
    "    if len(lbl):\n",
    "        board.set_line_text(5, f'Label: {lbl[0]}')\n",
    "\n",
    "    vis = board.img_concat(frame)\n",
    "    return vis\n",
    "vis_list = multi_thread(fv, cc.img_ids, 4, desc='Get Visualize Imgs')\n",
    "clear_output()\n",
    "images_to_video(vis_list, 'vis.mp4', output_size=(800, 300))"
   ]
  },
  {
   "cell_type": "code",
   "execution_count": null,
   "id": "bf494268-23ee-4db1-b9e1-31029db0e57e",
   "metadata": {},
   "outputs": [],
   "source": []
  }
 ],
 "metadata": {
  "kernelspec": {
   "display_name": "Python 3 (ipykernel)",
   "language": "python",
   "name": "python3"
  }
 },
 "nbformat": 4,
 "nbformat_minor": 5
}
