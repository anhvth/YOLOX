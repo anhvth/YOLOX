{
 "cells": [
  {
   "cell_type": "code",
   "execution_count": null,
   "id": "2ea9dc25-1b38-4db6-8377-e1607ac9c7a5",
   "metadata": {},
   "outputs": [],
   "source": [
    "from avcv.all import *\n",
    "import torch, torch.nn as nn\n",
    "from dms_drowsiness.video_writer import Board\n",
    "import onnxruntime\n",
    "import numpy as np, cv2\n",
    "from PIL import Image\n",
    "from ple.all import *"
   ]
  },
  {
   "cell_type": "code",
   "execution_count": null,
   "id": "511b8b16-3b85-4388-b8c2-155efc711f6f",
   "metadata": {},
   "outputs": [],
   "source": [
    "VIDEO_RAW_DIR_FOOD = '/data/DMS_Behavior_Detection/RawVideos/Action_Eating/'\n",
    "VIDEO_RAW_DIR_CIGARRET = '/data/DMS_Behavior_Detection/mobile_cigarret_foreignerUS'\n",
    "VAL_USERS = ['hungng', 'chungtd12', 'thomp4', 'thuyhv5']\n",
    "PRED_DIR_COCO ='.cache/raw_video_predict_face_food'"
   ]
  },
  {
   "cell_type": "code",
   "execution_count": null,
   "id": "70eac48b-faf1-4050-bf6c-146ba92eea61",
   "metadata": {},
   "outputs": [
    {
     "data": {
      "text/plain": [
       "109"
      ]
     },
     "execution_count": null,
     "metadata": {},
     "output_type": "execute_result"
    }
   ],
   "source": [
    "def get_meta_jsons(input):\n",
    "    \"\"\"\n",
    "        Asumming \n",
    "    \"\"\"\n",
    "    if input.endswith('.mp4'):\n",
    "        video_path = input\n",
    "        label_path = input.replace('.mp4', '.json')\n",
    "    else:\n",
    "        label_path = input\n",
    "        video_path = input.replace('.json', '.mp4')\n",
    "\n",
    "    video_name = get_name(label_path)\n",
    "    \n",
    "    pred_json_path = f'{PRED_DIR_COCO}/{video_name}/annotations/pred_mb2_face_food.json'\n",
    "\n",
    "    assert osp.exists(pred_json_path), f'404 {pred_json_path}'\n",
    "    assert osp.exists(video_path), f'404 {video_path}'\n",
    "        \n",
    "    if not osp.exists(label_path):\n",
    "        logger.warning(f'404 {label_path=}')\n",
    "        label_path = None\n",
    "    \n",
    "    return dict(\n",
    "        pred_json_path=pred_json_path,\n",
    "        label_path = label_path,\n",
    "        video_path=video_path,\n",
    "    )\n",
    "\n",
    "\n",
    "list_json_paths = []\n",
    "tobe_extract_videos = []\n",
    "\n",
    "label_paths  = glob(f'{VIDEO_RAW_DIR_FOOD}/**/*.json', recursive=True)\n",
    "for label_path in label_paths:\n",
    "    try:\n",
    "        json_paths = get_meta_jsons(label_path)\n",
    "        list_json_paths.append(json_paths)\n",
    "    except Exception as e:\n",
    "        print(e)\n",
    "        tobe_extract_videos.append(label_path.replace('.json', '.mp4'))\n",
    "        pass\n",
    "\n",
    "label_paths = glob(f'{VIDEO_RAW_DIR_CIGARRET}/*/**/*.json', recursive=True)\n",
    "\n",
    "for label_path in label_paths:\n",
    "    try:\n",
    "        json_paths = get_meta_jsons(label_path)\n",
    "        list_json_paths.append(json_paths)\n",
    "    except Exception as e:\n",
    "        print(e)\n",
    "        tobe_extract_videos.append(label_path.replace('.json', '.mp4'))\n",
    "        pass\n",
    "len(list_json_paths)"
   ]
  },
  {
   "cell_type": "code",
   "execution_count": null,
   "id": "69242eba-0891-47ab-b8a3-59e5e3fc9537",
   "metadata": {},
   "outputs": [
    {
     "name": "stdout",
     "output_type": "stream",
     "text": [
      "Load data from CACHE_DF_PATH='/tmp/eating_cache_data_df.pkl'\n",
      "CPU times: user 90.6 ms, sys: 13.3 ms, total: 104 ms\n",
      "Wall time: 102 ms\n"
     ]
    }
   ],
   "source": [
    "%%time\n",
    "CACHE_DF_PATH = '/tmp/eating_cache_data_df.pkl'\n",
    "if not osp.exists(CACHE_DF_PATH):\n",
    "    list_json_paths = load_meta_jsons_with_label()\n",
    "    \n",
    "    print('Collecting data from scratch')\n",
    "    data = multi_thread(collect_data, list(enumerate(list_json_paths)))\n",
    "    all_data = []\n",
    "    for _ in data: all_data += _\n",
    "\n",
    "    df = pd.DataFrame(all_data, columns=['tensor', 'action', 'video_index', 'img_path', 'img_id', 'feat1d'])\n",
    "    ids = df[df['action'] == 'smocking'].index\n",
    "    df.loc[ids, 'action'] = 'smoking'\n",
    "\n",
    "    df['x'] = df.feat1d.apply(convert_f)\n",
    "    df['y'] = df['action'].apply(get_y)\n",
    "else:\n",
    "    print(f'Load data from {CACHE_DF_PATH=}')\n",
    "    df = mmcv.load(CACHE_DF_PATH)"
   ]
  },
  {
   "cell_type": "code",
   "execution_count": null,
   "id": "85b1b388-b244-41f7-9ecb-e8ec8b83780e",
   "metadata": {},
   "outputs": [
    {
     "name": "stdout",
     "output_type": "stream",
     "text": [
      "IN_CHANNEL_CLS=546\n",
      "<All keys matched successfully>\n"
     ]
    }
   ],
   "source": [
    "from scripts.export_onnx import model_wraper, mb2_yolox"
   ]
  },
  {
   "cell_type": "code",
   "execution_count": null,
   "id": "c7b42185-0a97-4642-8e3e-1c6f8acb9e5d",
   "metadata": {},
   "outputs": [],
   "source": [
    "def load_image_tensor(path):\n",
    "    img = mmcv.imread(path, 0)\n",
    "    img = mmcv.imrescale(img, INP_SHAPE)\n",
    "    img = mmcv.impad(img, shape=INP_SHAPE, pad_val=114)\n",
    "    img = img[None].astype(np.float32)\n",
    "    return torch.from_numpy(img)\n",
    "\n",
    "class ImageDataset:\n",
    "    def __init__(self, img_paths, y=None):\n",
    "        self.img_paths = img_paths\n",
    "        self.y = y if y is not None else [0]*len(img_paths)\n",
    "    def __len__(self):\n",
    "        return len(self.img_paths)\n",
    "    def __getitem__(self, i):\n",
    "        return load_image_tensor(self.img_paths[i]), self.y[i]\n",
    "    \n",
    "# ds = ImageDataset(df.img_path.values)\n",
    "# dl = td.DataLoader(ds, 2)\n",
    "# x = next(iter(dl))\n"
   ]
  },
  {
   "cell_type": "code",
   "execution_count": null,
   "id": "ee57b8d7-e7c1-401d-90de-7ec4239fe767",
   "metadata": {},
   "outputs": [
    {
     "name": "stdout",
     "output_type": "stream",
     "text": [
      "{'eating': 0, 'none': 1, 'mobile usage': 2, 'smoking': 3}\n"
     ]
    }
   ],
   "source": [
    "_id2action = dict(enumerate(df['action'].apply(str).unique().tolist()))\n",
    "action2id = {v:k for k, v in _id2action.items()}\n",
    "print(action2id)\n"
   ]
  },
  {
   "cell_type": "markdown",
   "id": "3f549bee-6dc6-410d-b160-f36e32f76fa7",
   "metadata": {},
   "source": [
    "## Split train/val"
   ]
  },
  {
   "cell_type": "code",
   "execution_count": null,
   "id": "b6af5293-7082-4d03-828d-79cda12c6f98",
   "metadata": {},
   "outputs": [],
   "source": [
    "# df.x.values"
   ]
  },
  {
   "cell_type": "code",
   "execution_count": null,
   "id": "6c1a7588-76e7-4fdc-a777-49d8ead53c1d",
   "metadata": {},
   "outputs": [
    {
     "name": "stdout",
     "output_type": "stream",
     "text": [
      "len(df_train)=65748, len(df_val)=18277\n"
     ]
    }
   ],
   "source": [
    "from sklearn.model_selection import train_test_split\n",
    "\n",
    "labels = df.action.unique().tolist()\n",
    "labels\n",
    "\n",
    "df_train = df[df.video_index.apply(lambda i: i % 5 != 0)]\n",
    "df_val = df[df.video_index.apply(lambda i: i % 5 == 0)]\n",
    "print(f'{len(df_train)=}, {len(df_val)=}')\n",
    "\n",
    "def df2xy(df):\n",
    "    return df.img_path.values, np.array(df.y.tolist())\n",
    "\n",
    "xtrain, ytrain = df2xy(df_train)\n",
    "xval, yval = df2xy(df_val)"
   ]
  },
  {
   "cell_type": "markdown",
   "id": "4ec338a9-570d-469d-bdcb-7a1269c8e3cb",
   "metadata": {},
   "source": [
    "## Dataset"
   ]
  },
  {
   "cell_type": "code",
   "execution_count": null,
   "id": "756477e9-5a7c-4b9b-9b48-2d96c42782db",
   "metadata": {},
   "outputs": [],
   "source": [
    "import torch.utils.data as td\n",
    "class YOutDataset(ImageDataset):\n",
    "    def __getitem__(self, idx):\n",
    "        res = super().__getitem__(idx)\n",
    "        return  *res,self.img_paths[idx]"
   ]
  },
  {
   "cell_type": "markdown",
   "id": "33b478af-b026-44b0-8793-3230f94c8725",
   "metadata": {},
   "source": [
    "### Get sample data"
   ]
  },
  {
   "cell_type": "code",
   "execution_count": null,
   "id": "eaba085e-cb7f-4f7f-a1b5-ab5eea14cdec",
   "metadata": {},
   "outputs": [],
   "source": [
    "ds = YOutDataset(df.img_path, df.y)\n",
    "dl = td.DataLoader(ds, 2, shuffle=1)\n",
    "x,y, img_paths = next(iter(dl))"
   ]
  },
  {
   "cell_type": "markdown",
   "id": "820037a3-b301-4ee8-aeae-aa912e8b361a",
   "metadata": {},
   "source": [
    "## MyLit"
   ]
  },
  {
   "cell_type": "code",
   "execution_count": null,
   "id": "ed4c64c4-9c66-4790-b847-e6b1fa2b0e2f",
   "metadata": {},
   "outputs": [],
   "source": [
    "from scripts.export_onnx import mb2_yolox, SimpleCLS2D"
   ]
  },
  {
   "cell_type": "code",
   "execution_count": null,
   "id": "248583ce-9652-47d0-8fe7-dd5288223cd2",
   "metadata": {},
   "outputs": [],
   "source": [
    "class ModelWrapper(nn.Module):\n",
    "    def __init__(self):\n",
    "        super().__init__()\n",
    "        self.mb2_yolox = mb2_yolox.requires_grad_(False)\n",
    "        self.classifier = SimpleCLS2D()\n",
    "        \n",
    "    def forward(self, img):\n",
    "        self.mb2_yolox.eval()\n",
    "        x = self.mb2_yolox(img)\n",
    "        x = self.classifier(x)\n",
    "        return x"
   ]
  },
  {
   "cell_type": "code",
   "execution_count": null,
   "id": "8ada74f7-2332-431e-a2d6-d0edaa6616d1",
   "metadata": {},
   "outputs": [],
   "source": [
    "class MyLit(LitModel):\n",
    "    def forward_loss(self, batch, batch_idx, mode):\n",
    "        x, y = batch[:2]\n",
    "        y_onehot = nn.functional.one_hot(y, 4).float()\n",
    "        probs = self(x)\n",
    "        loss = self.loss_fn(probs, y_onehot)\n",
    "        mask = y!=1\n",
    "        if mask.sum():\n",
    "            accs = (y_onehot[mask] == (probs[mask]>0.5).float()).float().mean()\n",
    "            self.log(f\"{mode}_acc\", accs, prog_bar=True,\n",
    "                     rank_zero_only=True, on_epoch=True, batch_size=mask.sum())\n",
    "        self.log(f\"{mode}_loss\", loss, prog_bar=True,\n",
    "                 rank_zero_only=True, on_epoch=True)\n",
    "        return loss\n",
    "    def training_step(self, b,i): return self.forward_loss(b,i,'training')\n",
    "    def validation_step(self, b,i): return self.forward_loss(b,i,'val')"
   ]
  },
  {
   "cell_type": "markdown",
   "id": "c98275d6-2d3f-42fe-bf40-33f76108a9fe",
   "metadata": {},
   "source": [
    "## PLData"
   ]
  },
  {
   "cell_type": "code",
   "execution_count": null,
   "id": "3d146644-d40d-4608-884b-5d7cbd6ab247",
   "metadata": {},
   "outputs": [
    {
     "name": "stdout",
     "output_type": "stream",
     "text": [
      "torch.Size([64, 1, 224, 416]) torch.Size([64])\n"
     ]
    }
   ],
   "source": [
    "from ple.all import *\n",
    "import torch.utils.data as td\n",
    "import pytorch_lightning as pl\n",
    "from fastcore.all import *\n",
    "\n",
    "class PLData(pl.LightningDataModule):\n",
    "    def __init__(self, **kwargs):\n",
    "        super().__init__()\n",
    "        store_attr(**kwargs)\n",
    "\n",
    "    def train_dataloader(self):\n",
    "        dataset = YOutDataset(xtrain, ytrain)\n",
    "        return td.DataLoader(dataset, self.batch_size, num_workers=self.num_workers, drop_last=True, shuffle=True)\n",
    "\n",
    "    def val_dataloader(self):\n",
    "        dataset = YOutDataset(xval, yval)\n",
    "        return td.DataLoader(dataset, self.batch_size, num_workers=self.num_workers,drop_last=True)\n",
    "    \n",
    "pldata = PLData(batch_size=64, num_workers=1)\n",
    "trainloader = pldata.train_dataloader()\n",
    "x,y, img_paths = next(iter(trainloader))\n",
    "print(x.shape, y.shape)"
   ]
  },
  {
   "cell_type": "markdown",
   "id": "096ac415-3522-4458-b3be-9216a3d323a4",
   "metadata": {},
   "source": [
    "## TriStageExp"
   ]
  },
  {
   "cell_type": "code",
   "execution_count": null,
   "id": "8b6bbfa7-a7af-4b53-840d-50ad8231d4b5",
   "metadata": {},
   "outputs": [],
   "source": [
    "class TriStageExp(BaseExp):\n",
    "\n",
    "    def __init__(self, exp_name='EXPNAME', \n",
    "                 batch_size=64, \n",
    "                 num_workers=2, \n",
    "                 devices=2,\n",
    "                 strategy='dp', \n",
    "                 **kwargs):\n",
    "        super().__init__()\n",
    "        store_attr(**kwargs)\n",
    "\n",
    "    def get_model(self):\n",
    "        dl = self.get_data_loader().train_dataloader()\n",
    "        sched = fn_schedule_cosine_with_warmpup_decay_timm(\n",
    "            num_epochs=self.max_epochs,\n",
    "            num_steps_per_epoch=len(dl)//self.devices,\n",
    "            num_epochs_per_cycle=self.max_epochs//self.num_lr_cycles,\n",
    "            min_lr=1/100,\n",
    "            cycle_decay=0.7,\n",
    "        )\n",
    "        optim = lambda params:torch.optim.Adam(params)\n",
    "\n",
    "        return MyLit(self.model, create_optimizer_fn=optim,\n",
    "                                   create_lr_scheduler_fn=sched, loss_fn=self.loss_fn)\n",
    "\n",
    "    def get_data_loader(self):\n",
    "        return PLData(batch_size=self.batch_size, num_workers=self.num_workers)\n",
    "\n",
    "    def get_trainer(self, **kwargs):\n",
    "        from ple.trainer import get_trainer\n",
    "        return get_trainer(self.exp_name, \n",
    "                              max_epochs=self.max_epochs, \n",
    "                              gpus=self.devices,\n",
    "                           strategy=self.strategy,\n",
    "                           **kwargs,\n",
    "\n",
    "                          )\n",
    "\n",
    "exp = TriStageExp(exp_name=f'simple_nn/{INP_SHAPE_STR}', batch_size=256, \n",
    "                  num_workers=4, devices=1, model=ModelWrapper(), max_epochs=30,\n",
    "                 loss_fn = BinaryFocalLoss())\n"
   ]
  },
  {
   "cell_type": "code",
   "execution_count": null,
   "id": "6be51077-cf95-42ef-9a17-81cb343c7a70",
   "metadata": {},
   "outputs": [
    {
     "name": "stderr",
     "output_type": "stream",
     "text": [
      "2022-09-26 09:05:53.849 | INFO     | ple.lit_model:fn_schedule_cosine_with_warmpup_decay_timm:66 - num_cycles=3\n",
      "/home/anhvth8/.conda/envs/py38/lib/python3.8/site-packages/pytorch_lightning/core/module.py:386: UserWarning: You are trying to `self.log()` but the `self.trainer` reference is not registered on the model yet. This is most likely because the model hasn't been passed to the `Trainer`\n",
      "  rank_zero_warn(\n"
     ]
    },
    {
     "data": {
      "text/plain": [
       "tensor(0.1639, grad_fn=<MeanBackward0>)"
      ]
     },
     "execution_count": null,
     "metadata": {},
     "output_type": "execute_result"
    }
   ],
   "source": [
    "lit_model = exp.get_model()\n",
    "lit_model.cpu().training_step([x,y],1)"
   ]
  },
  {
   "cell_type": "code",
   "execution_count": null,
   "id": "b25f04a2-35e3-4e06-82e1-ff78c241096a",
   "metadata": {},
   "outputs": [],
   "source": [
    "m = lit_model.model"
   ]
  },
  {
   "cell_type": "code",
   "execution_count": null,
   "id": "c974f724-7007-4464-82be-d762cbb1c09a",
   "metadata": {},
   "outputs": [
    {
     "data": {
      "text/plain": [
       "\u001b[0;31mSignature:\u001b[0m \u001b[0mm\u001b[0m\u001b[0;34m.\u001b[0m\u001b[0mmb2_yolox\u001b[0m\u001b[0;34m.\u001b[0m\u001b[0mforward\u001b[0m\u001b[0;34m(\u001b[0m\u001b[0mx\u001b[0m\u001b[0;34m,\u001b[0m \u001b[0mtargets\u001b[0m\u001b[0;34m=\u001b[0m\u001b[0;32mNone\u001b[0m\u001b[0;34m)\u001b[0m\u001b[0;34m\u001b[0m\u001b[0;34m\u001b[0m\u001b[0m\n",
       "\u001b[0;31mDocstring:\u001b[0m\n",
       "Defines the computation performed at every call.\n",
       "\n",
       "Should be overridden by all subclasses.\n",
       "\n",
       ".. note::\n",
       "    Although the recipe for forward pass needs to be defined within\n",
       "    this function, one should call the :class:`Module` instance afterwards\n",
       "    instead of this since the former takes care of running the\n",
       "    registered hooks while the latter silently ignores them.\n",
       "\u001b[0;31mSource:\u001b[0m   \n",
       "    \u001b[0;32mdef\u001b[0m \u001b[0mforward\u001b[0m\u001b[0;34m(\u001b[0m\u001b[0mself\u001b[0m\u001b[0;34m,\u001b[0m \u001b[0mx\u001b[0m\u001b[0;34m,\u001b[0m \u001b[0mtargets\u001b[0m\u001b[0;34m=\u001b[0m\u001b[0;32mNone\u001b[0m\u001b[0;34m)\u001b[0m\u001b[0;34m:\u001b[0m\u001b[0;34m\u001b[0m\n",
       "\u001b[0;34m\u001b[0m        \u001b[0;31m# fpn output content features of [dark3, dark4, dark5]\u001b[0m\u001b[0;34m\u001b[0m\n",
       "\u001b[0;34m\u001b[0m        \u001b[0mfpn_outs\u001b[0m \u001b[0;34m=\u001b[0m \u001b[0mself\u001b[0m\u001b[0;34m.\u001b[0m\u001b[0mbackbone\u001b[0m\u001b[0;34m(\u001b[0m\u001b[0mx\u001b[0m\u001b[0;34m)\u001b[0m\u001b[0;34m\u001b[0m\n",
       "\u001b[0;34m\u001b[0m\u001b[0;34m\u001b[0m\n",
       "\u001b[0;34m\u001b[0m        \u001b[0;32mif\u001b[0m \u001b[0mself\u001b[0m\u001b[0;34m.\u001b[0m\u001b[0mtraining\u001b[0m\u001b[0;34m:\u001b[0m\u001b[0;34m\u001b[0m\n",
       "\u001b[0;34m\u001b[0m            \u001b[0;32massert\u001b[0m \u001b[0mtargets\u001b[0m \u001b[0;32mis\u001b[0m \u001b[0;32mnot\u001b[0m \u001b[0;32mNone\u001b[0m\u001b[0;34m\u001b[0m\n",
       "\u001b[0;34m\u001b[0m            \u001b[0mloss\u001b[0m\u001b[0;34m,\u001b[0m \u001b[0miou_loss\u001b[0m\u001b[0;34m,\u001b[0m \u001b[0mconf_loss\u001b[0m\u001b[0;34m,\u001b[0m \u001b[0mcls_loss\u001b[0m\u001b[0;34m,\u001b[0m \u001b[0ml1_loss\u001b[0m\u001b[0;34m,\u001b[0m \u001b[0mnum_fg\u001b[0m \u001b[0;34m=\u001b[0m \u001b[0mself\u001b[0m\u001b[0;34m.\u001b[0m\u001b[0mhead\u001b[0m\u001b[0;34m(\u001b[0m\u001b[0;34m\u001b[0m\n",
       "\u001b[0;34m\u001b[0m                \u001b[0mfpn_outs\u001b[0m\u001b[0;34m,\u001b[0m \u001b[0mtargets\u001b[0m\u001b[0;34m,\u001b[0m \u001b[0mx\u001b[0m\u001b[0;34m\u001b[0m\n",
       "\u001b[0;34m\u001b[0m            \u001b[0;34m)\u001b[0m\u001b[0;34m\u001b[0m\n",
       "\u001b[0;34m\u001b[0m            \u001b[0moutputs\u001b[0m \u001b[0;34m=\u001b[0m \u001b[0;34m{\u001b[0m\u001b[0;34m\u001b[0m\n",
       "\u001b[0;34m\u001b[0m                \u001b[0;34m\"total_loss\"\u001b[0m\u001b[0;34m:\u001b[0m \u001b[0mloss\u001b[0m\u001b[0;34m,\u001b[0m\u001b[0;34m\u001b[0m\n",
       "\u001b[0;34m\u001b[0m                \u001b[0;34m\"iou_loss\"\u001b[0m\u001b[0;34m:\u001b[0m \u001b[0miou_loss\u001b[0m\u001b[0;34m,\u001b[0m\u001b[0;34m\u001b[0m\n",
       "\u001b[0;34m\u001b[0m                \u001b[0;34m\"l1_loss\"\u001b[0m\u001b[0;34m:\u001b[0m \u001b[0ml1_loss\u001b[0m\u001b[0;34m,\u001b[0m\u001b[0;34m\u001b[0m\n",
       "\u001b[0;34m\u001b[0m                \u001b[0;34m\"conf_loss\"\u001b[0m\u001b[0;34m:\u001b[0m \u001b[0mconf_loss\u001b[0m\u001b[0;34m,\u001b[0m\u001b[0;34m\u001b[0m\n",
       "\u001b[0;34m\u001b[0m                \u001b[0;34m\"cls_loss\"\u001b[0m\u001b[0;34m:\u001b[0m \u001b[0mcls_loss\u001b[0m\u001b[0;34m,\u001b[0m\u001b[0;34m\u001b[0m\n",
       "\u001b[0;34m\u001b[0m                \u001b[0;34m\"num_fg\"\u001b[0m\u001b[0;34m:\u001b[0m \u001b[0mnum_fg\u001b[0m\u001b[0;34m,\u001b[0m\u001b[0;34m\u001b[0m\n",
       "\u001b[0;34m\u001b[0m            \u001b[0;34m}\u001b[0m\u001b[0;34m\u001b[0m\n",
       "\u001b[0;34m\u001b[0m        \u001b[0;32melse\u001b[0m\u001b[0;34m:\u001b[0m\u001b[0;34m\u001b[0m\n",
       "\u001b[0;34m\u001b[0m            \u001b[0moutputs\u001b[0m \u001b[0;34m=\u001b[0m \u001b[0mself\u001b[0m\u001b[0;34m.\u001b[0m\u001b[0mhead\u001b[0m\u001b[0;34m(\u001b[0m\u001b[0mfpn_outs\u001b[0m\u001b[0;34m)\u001b[0m\u001b[0;34m\u001b[0m\n",
       "\u001b[0;34m\u001b[0m\u001b[0;34m\u001b[0m\n",
       "\u001b[0;34m\u001b[0m        \u001b[0;32mreturn\u001b[0m \u001b[0moutputs\u001b[0m\u001b[0;34m\u001b[0m\u001b[0;34m\u001b[0m\u001b[0m\n",
       "\u001b[0;31mFile:\u001b[0m      ~/gitprojects/YOLOX/yolox/models/yolox.py\n",
       "\u001b[0;31mType:\u001b[0m      method\n"
      ]
     },
     "metadata": {},
     "output_type": "display_data"
    }
   ],
   "source": [
    "m.mb2_yolox.forward??"
   ]
  },
  {
   "cell_type": "code",
   "execution_count": null,
   "id": "5146a8f9-dc24-43ed-8442-469982582db0",
   "metadata": {},
   "outputs": [],
   "source": [
    "# trainer = exp.get_trainer()\n",
    "# trainer.fit(lit_model, exp.get_data_loader())"
   ]
  },
  {
   "cell_type": "markdown",
   "id": "26a5b33e-a5f5-49c9-99cb-c145df1caf7a",
   "metadata": {},
   "source": [
    "# Test"
   ]
  },
  {
   "cell_type": "code",
   "execution_count": null,
   "id": "afc89400-a261-413f-919e-e700a4cb1d50",
   "metadata": {},
   "outputs": [],
   "source": [
    "# lit_model = exp.get_model();\n",
    "\n",
    "# lit_model.load_from_checkpoint('lightning_logs/simple_nn/00/ckpts/epoch=6-val_acc=0.74.ckpt', model=lit_model.model)\n",
    "# lit_model = lit_model.cuda().requires_grad_(False).eval()"
   ]
  },
  {
   "cell_type": "code",
   "execution_count": null,
   "id": "41a5b7bb-2023-4073-8a1e-4fbcd5cd99fd",
   "metadata": {},
   "outputs": [
    {
     "name": "stdout",
     "output_type": "stream",
     "text": [
      "[0.7657305002212524, 0.14158980548381805, 0.021903790533542633, 0.0381690114736557]\n"
     ]
    }
   ],
   "source": [
    "session = onnxruntime.InferenceSession('/home/anhvth8/gitprojects/YOLOX/out.onnx')\n",
    "def predict_onnx(img_path):\n",
    "    inp = load_image_tensor(img_path).numpy()[None]\n",
    "    ort_inputs = {session.get_inputs()[0].name: inp.astype(np.float32)}\n",
    "    probs = session.run(None, ort_inputs)[0]\n",
    "    return torch.from_numpy(probs).sigmoid().numpy().squeeze().tolist()\n",
    "\n",
    "res = predict_onnx('/tmp/guiemanhtest224.png')\n",
    "# res =[0.9980290532112122,0.09712985157966614,2.980232238769531e-07,0.0006951689720153809]\n",
    "print(res)"
   ]
  },
  {
   "cell_type": "markdown",
   "id": "2bfa0746-7c29-4958-9b33-d24b895d73c5",
   "metadata": {},
   "source": [
    "### Gửi em ảnh test"
   ]
  },
  {
   "cell_type": "code",
   "execution_count": null,
   "id": "4e0eac61-afaa-4718-9a17-e1e374db4121",
   "metadata": {},
   "outputs": [],
   "source": []
  },
  {
   "cell_type": "code",
   "execution_count": null,
   "id": "d0aa9821-333a-42f6-a93e-44bf8a718c66",
   "metadata": {},
   "outputs": [],
   "source": [
    "# st = torch.load('lightning_logs/simple_nn/224_416/03/ckpts/epoch=0-val_acc=0.86.ckpt')['state_dict']\n",
    "# new_st = {}\n",
    "# for k, v in st.items():\n",
    "#     new_st[k[6:]] = v\n",
    "# res = model_wraper.classifier.load_state_dict(new_st)\n",
    "# print(res)\n",
    "# model_wraper.eval().requires_grad_(False);"
   ]
  },
  {
   "cell_type": "code",
   "execution_count": null,
   "id": "615e8afb-9631-4ee1-adf8-9f9d54765330",
   "metadata": {},
   "outputs": [],
   "source": [
    "x,y,img_paths = next(iter(pldata.train_dataloader()))"
   ]
  },
  {
   "cell_type": "code",
   "execution_count": null,
   "id": "e29b9c3a-739b-41dd-8d77-323510af0e30",
   "metadata": {},
   "outputs": [
    {
     "data": {
      "image/png": "[encoded data removed]",
      "text/plain": [
       "<PIL.JpegImagePlugin.JpegImageFile image mode=RGB size=512x288>"
      ]
     },
     "execution_count": null,
     "metadata": {},
     "output_type": "execute_result"
    }
   ],
   "source": [
    "Image.open(img_paths[0])"
   ]
  },
  {
   "cell_type": "code",
   "execution_count": null,
   "id": "04c191bc-5d3c-4f70-aa97-6d7503a9a9c4",
   "metadata": {},
   "outputs": [],
   "source": [
    "# @torch.inference_mode()\n",
    "def predict_model_wrapper(img_path, model, device='cuda'):\n",
    "    model.eval().to(device)\n",
    "    with torch.no_grad():\n",
    "        img = load_image_tensor(img_path)[None].to(device)\n",
    "        probs = lit_model(img).cpu()\n",
    "    return probs[0].tolist()\n"
   ]
  },
  {
   "cell_type": "code",
   "execution_count": null,
   "id": "34432e98-c1af-4779-92b2-e7ae6d05d6ab",
   "metadata": {},
   "outputs": [
    {
     "data": {
      "text/plain": [
       "{'pred_json_path': '/home/anhvth8/gitprojects/YOLOX/.cache/raw_video_predict_face_food/hungng_Sensing_Session0_CAMc_1b_2c_3a_4c_5b_6b_7b_8a_9a_10a_11b_12a_13a_14b_15b_16f_17a_18a_19a_20b_eating_0003/annotations/pred_mb2_face_food.json',\n",
       " 'label_path': '/data/DMS_Behavior_Detection/RawVideos/Action_Eating/hungng_Sensing_Session0_CAMc_1b_2c_3a_4c_5b_6b_7b_8a_9a_10a_11b_12a_13a_14b_15b_16f_17a_18a_19a_20b/hungng_Sensing_Session0_CAMc_1b_2c_3a_4c_5b_6b_7b_8a_9a_10a_11b_12a_13a_14b_15b_16f_17a_18a_19a_20b_eating_0003.json',\n",
       " 'video_path': '/data/DMS_Behavior_Detection/RawVideos/Action_Eating/hungng_Sensing_Session0_CAMc_1b_2c_3a_4c_5b_6b_7b_8a_9a_10a_11b_12a_13a_14b_15b_16f_17a_18a_19a_20b/hungng_Sensing_Session0_CAMc_1b_2c_3a_4c_5b_6b_7b_8a_9a_10a_11b_12a_13a_14b_15b_16f_17a_18a_19a_20b_eating_0003.mp4',\n",
       " 'raw_feat_path': '/home/anhvth8/gitprojects/YOLOX/.cache/raw_video_predict_face_food/hungng_Sensing_Session0_CAMc_1b_2c_3a_4c_5b_6b_7b_8a_9a_10a_11b_12a_13a_14b_15b_16f_17a_18a_19a_20b_eating_0003/annotations/pred_mb2_face_food_2_raw_outputs.pkl'}"
      ]
     },
     "execution_count": null,
     "metadata": {},
     "output_type": "execute_result"
    }
   ],
   "source": [
    "val_json_paths[0]"
   ]
  },
  {
   "cell_type": "code",
   "execution_count": null,
   "id": "f1a69ff1-2dd4-4012-b20d-b3084826465e",
   "metadata": {},
   "outputs": [
    {
     "data": {
      "text/plain": [
       "'hungng_Sensing_Session0_CAMc_1b_2c_3a_4c_5b_6b_7b_8a_9a_10a_11b_12a_13a_14b_15b_16f_17a_18a_19a_20b_eating_0003'"
      ]
     },
     "execution_count": null,
     "metadata": {},
     "output_type": "execute_result"
    }
   ],
   "source": []
  },
  {
   "cell_type": "code",
   "execution_count": null,
   "id": "5e7ab36b-8ed5-4f23-9b39-a3e7ba3e526a",
   "metadata": {},
   "outputs": [
    {
     "name": "stdout",
     "output_type": "stream",
     "text": [
      "Num of val 85\n"
     ]
    },
    {
     "data": {
      "text/plain": [
       "{'pred_json_path': '/home/anhvth8/gitprojects/YOLOX/.cache/raw_video_predict_face_food/evamaria_smoking_0027/annotations/pred_mb2_face_food.json',\n",
       " 'label_path': '/data/DMS_Behavior_Detection/mobile_cigarret_foreignerUS/training/evamaria/smoking/evamaria_smoking_0027.json',\n",
       " 'video_path': '/data/DMS_Behavior_Detection/mobile_cigarret_foreignerUS/training/evamaria/smoking/evamaria_smoking_0027.mp4',\n",
       " 'raw_feat_path': '/home/anhvth8/gitprojects/YOLOX/.cache/raw_video_predict_face_food/evamaria_smoking_0027/annotations/pred_mb2_face_food_2_raw_outputs.pkl'}"
      ]
     },
     "execution_count": null,
     "metadata": {},
     "output_type": "execute_result"
    }
   ],
   "source": [
    "val_ids = df_train.video_index.unique().tolist()\n",
    "print('Num of val', len(val_ids))\n",
    "val_json_paths = [list_json_paths[i] for i in val_ids]\n",
    "# val_json_paths\n",
    "json_paths = np.random.choice(val_json_paths)\n",
    "json_paths"
   ]
  },
  {
   "cell_type": "code",
   "execution_count": null,
   "id": "8d1752a3-ebf5-48af-8f7d-89f22243f801",
   "metadata": {},
   "outputs": [],
   "source": []
  },
  {
   "cell_type": "code",
   "execution_count": null,
   "id": "078a6482-08db-46a7-8fba-bd936e776da3",
   "metadata": {},
   "outputs": [
    {
     "name": "stderr",
     "output_type": "stream",
     "text": [
      "2022-09-22 07:03:27.034 | INFO     | avcv.process:multi_thread:25 - Get Visualize Imgs\n"
     ]
    },
    {
     "name": "stdout",
     "output_type": "stream",
     "text": [
      "[>>>>>>>>>>>>>>>>>>>>>>>>>>>>>] 950/923, 78.3 task/s, elapsed: 12s, ETA:     0s"
     ]
    },
    {
     "name": "stderr",
     "output_type": "stream",
     "text": [
      "2022-09-22 07:03:39.468 | INFO     | avcv.process:multi_thread:34 - multi_thread\n",
      "2022-09-22 07:03:39.472 | INFO     | avcv.utils:images_to_video:267 - Write video, output_size: (800, 300)\n"
     ]
    },
    {
     "name": "stdout",
     "output_type": "stream",
     "text": [
      "[>>>>>>>>>>>>>>>>>>>>>>>>>>>>>] 923/923, 288.1 task/s, elapsed: 3s, ETA:     0s"
     ]
    },
    {
     "name": "stderr",
     "output_type": "stream",
     "text": [
      "2022-09-22 07:03:42.678 | INFO     | avcv.utils:images_to_video:277 - -> /home/anhvth8/gitprojects/YOLOX/vis.mp4\n"
     ]
    }
   ],
   "source": [
    "from IPython.display import clear_output\n",
    "\n",
    "class Visualize:\n",
    "    def __init__(self, video_or_json_paths):\n",
    "        if isinstance(video_or_json_paths, dict):\n",
    "            json_paths = video_or_json_paths\n",
    "            self.cc = CocoDataset(json_paths['pred_json_path'])\n",
    "            self.label = Label(mmcv.load(json_paths['label_path']), mmcv.VideoReader(json_paths['video_path']))\n",
    "            self.input_type = 'coco'\n",
    "        elif isinstance(video_or_json_paths, str):\n",
    "            self.video = mmcv.VideoReader(video_or_json_paths)\n",
    "            self.input_type = 'video'\n",
    "\n",
    "    def visualize_coco_frame(self, img):\n",
    "        cc, label = self.cc, self.label\n",
    "        board = Board(num_lines=6, line_w=500)\n",
    "        frame = self.cc.visualize(img, score_thr=0.05);\n",
    "        img_info = cc.gt.imgs[img]\n",
    "        image = osp.join(cc.img_dir, img_info['file_name'])\n",
    "        lbl = label.check_action_at_frame_idx(img)\n",
    "        lbl = lbl[0] if len(lbl) else lbl\n",
    "        probs = predict_onnx(image)\n",
    "        for class_idx in range(4):\n",
    "            action = _id2action[class_idx]\n",
    "            action = action + ' '*(12-len(action))\n",
    "            score = probs[class_idx]\n",
    "            board.set_line_text(class_idx, action, score)\n",
    "        if lbl is not None:\n",
    "            board.set_line_text(5, f'Label: {lbl}')\n",
    "\n",
    "        vis = board.img_concat(frame)\n",
    "        return vis\n",
    "    \n",
    "    def visualize_video_frame(self, img):\n",
    "        \n",
    "        board = Board(num_lines=6, line_w=500)\n",
    "        frame = img = mmcv.imread(img)\n",
    "        if len(img.shape) == 3:\n",
    "            img = cv2.cvtColor(img, cv2.COLOR_BGR2GRAY)\n",
    "        probs = predict_onnx(img)\n",
    "        \n",
    "        for class_idx in range(4):\n",
    "            action = _id2action[class_idx]\n",
    "            action = action + ' '*(12-len(action))\n",
    "            score = probs[class_idx]\n",
    "            board.set_line_text(class_idx, action, score)\n",
    "\n",
    "        vis = board.img_concat(frame)\n",
    "        return vis\n",
    "\n",
    "    \n",
    "    def write_video(self):\n",
    "        if self.input_type == 'coco':\n",
    "            vis_list = multi_thread(self.visualize_coco_frame, self.cc.img_ids, 1, desc='Get Visualize Imgs')\n",
    "        else:\n",
    "            vis_list = []\n",
    "            pbar = mmcv.ProgressBar(len(self.video))\n",
    "            for frame_idx, img in enumerate(self.video):\n",
    "                if frame_idx%3==0:\n",
    "                    vis_list.append(self.visualize_video_frame(img))\n",
    "                if frame_idx%10 == 0: pbar.update(10)\n",
    "\n",
    "        images_to_video(vis_list, 'vis.mp4', output_size=(800, 300))\n",
    "# Visualize('/tmp/toanbd1_eating_smoking_phoneusage_distraction_drowsiness.avi').write_video()\n",
    "Visualize(json_paths).write_video()\n"
   ]
  },
  {
   "cell_type": "code",
   "execution_count": null,
   "id": "51c02f93-b91f-49c6-b9e7-32d858781323",
   "metadata": {},
   "outputs": [],
   "source": []
  }
 ],
 "metadata": {
  "kernelspec": {
   "display_name": "Python 3 (ipykernel)",
   "language": "python",
   "name": "python3"
  }
 },
 "nbformat": 4,
 "nbformat_minor": 5
}
