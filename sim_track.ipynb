{
 "cells": [
  {
   "cell_type": "code",
   "execution_count": null,
   "id": "2ea9dc25-1b38-4db6-8377-e1607ac9c7a5",
   "metadata": {},
   "outputs": [],
   "source": [
    "from avcv.all import *\n",
    "import torch, torch.nn as nn\n",
    "from dms_drowsiness.video_writer import Board\n",
    "import onnxruntime\n",
    "import numpy as np, cv2\n",
    "from PIL import Image\n",
    "from ple.all import *"
   ]
  },
  {
   "cell_type": "markdown",
   "id": "4448edf4-9b1b-4086-ac98-57605f7fc348",
   "metadata": {},
   "source": [
    "# Data"
   ]
  },
  {
   "cell_type": "code",
   "execution_count": null,
   "id": "511b8b16-3b85-4388-b8c2-155efc711f6f",
   "metadata": {},
   "outputs": [],
   "source": [
    "VIDEO_RAW_DIR_FOOD = '/data/DMS_Behavior_Detection/RawVideos/Action_Eating/'\n",
    "VIDEO_RAW_DIR_CIGARRET = '/data/DMS_Behavior_Detection/mobile_cigarret_foreignerUS'\n",
    "VAL_USERS = ['hungng', 'chungtd12', 'thomp4', 'thuyhv5']\n",
    "PRED_DIR_COCO ='.cache/raw_video_predict_face_food'"
   ]
  },
  {
   "cell_type": "code",
   "execution_count": null,
   "id": "70eac48b-faf1-4050-bf6c-146ba92eea61",
   "metadata": {},
   "outputs": [
    {
     "data": {
      "text/plain": [
       "109"
      ]
     },
     "execution_count": null,
     "metadata": {},
     "output_type": "execute_result"
    }
   ],
   "source": [
    "def get_meta_jsons(input):\n",
    "    \"\"\"\n",
    "        Asumming \n",
    "    \"\"\"\n",
    "    if input.endswith('.mp4'):\n",
    "        video_path = input\n",
    "        label_path = input.replace('.mp4', '.json')\n",
    "    else:\n",
    "        label_path = input\n",
    "        video_path = input.replace('.json', '.mp4')\n",
    "\n",
    "    video_name = get_name(label_path)\n",
    "    \n",
    "    pred_json_path = f'{PRED_DIR_COCO}/{video_name}/annotations/pred_mb2_face_food.json'\n",
    "\n",
    "    assert osp.exists(pred_json_path), f'404 {pred_json_path}'\n",
    "    assert osp.exists(video_path), f'404 {video_path}'\n",
    "        \n",
    "    if not osp.exists(label_path):\n",
    "        logger.warning(f'404 {label_path=}')\n",
    "        label_path = None\n",
    "    \n",
    "    return dict(\n",
    "        pred_json_path=pred_json_path,\n",
    "        label_path = label_path,\n",
    "        video_path=video_path,\n",
    "    )\n",
    "\n",
    "\n",
    "list_json_paths = []\n",
    "tobe_extract_videos = []\n",
    "\n",
    "label_paths  = glob(f'{VIDEO_RAW_DIR_FOOD}/**/*.json', recursive=True)\n",
    "for label_path in label_paths:\n",
    "    try:\n",
    "        json_paths = get_meta_jsons(label_path)\n",
    "        list_json_paths.append(json_paths)\n",
    "    except Exception as e:\n",
    "        print(e)\n",
    "        tobe_extract_videos.append(label_path.replace('.json', '.mp4'))\n",
    "        pass\n",
    "\n",
    "label_paths = glob(f'{VIDEO_RAW_DIR_CIGARRET}/*/**/*.json', recursive=True)\n",
    "\n",
    "for label_path in label_paths:\n",
    "    try:\n",
    "        json_paths = get_meta_jsons(label_path)\n",
    "        list_json_paths.append(json_paths)\n",
    "    except Exception as e:\n",
    "        print(e)\n",
    "        tobe_extract_videos.append(label_path.replace('.json', '.mp4'))\n",
    "        pass\n",
    "len(list_json_paths)"
   ]
  },
  {
   "cell_type": "code",
   "execution_count": null,
   "id": "69242eba-0891-47ab-b8a3-59e5e3fc9537",
   "metadata": {},
   "outputs": [
    {
     "name": "stdout",
     "output_type": "stream",
     "text": [
      "Load data from CACHE_DF_PATH='/tmp/eating_cache_data_df.pkl'\n",
      "CPU times: user 66.9 ms, sys: 23.5 ms, total: 90.4 ms\n",
      "Wall time: 88.7 ms\n"
     ]
    }
   ],
   "source": [
    "%%time\n",
    "CACHE_DF_PATH = '/tmp/eating_cache_data_df.pkl'\n",
    "if not osp.exists(CACHE_DF_PATH):\n",
    "    list_json_paths = load_meta_jsons_with_label()\n",
    "    \n",
    "    print('Collecting data from scratch')\n",
    "    data = multi_thread(collect_data, list(enumerate(list_json_paths)))\n",
    "    all_data = []\n",
    "    for _ in data: all_data += _\n",
    "\n",
    "    df = pd.DataFrame(all_data, columns=['tensor', 'action', 'video_index', 'img_path', 'img_id', 'feat1d'])\n",
    "    ids = df[df['action'] == 'smocking'].index\n",
    "    df.loc[ids, 'action'] = 'smoking'\n",
    "\n",
    "    df['x'] = df.feat1d.apply(convert_f)\n",
    "    df['y'] = df['action'].apply(get_y)\n",
    "else:\n",
    "    print(f'Load data from {CACHE_DF_PATH=}')\n",
    "    df = mmcv.load(CACHE_DF_PATH)"
   ]
  },
  {
   "cell_type": "code",
   "execution_count": null,
   "id": "85b1b388-b244-41f7-9ecb-e8ec8b83780e",
   "metadata": {},
   "outputs": [],
   "source": [
    "# from scripts.export_onnx import model_wraper, mb2_yolox"
   ]
  },
  {
   "cell_type": "code",
   "execution_count": null,
   "id": "ea9b0661-110c-4c8e-a8b9-bd39eaeac615",
   "metadata": {},
   "outputs": [],
   "source": [
    "INP_SHAPE = (224, 416)"
   ]
  },
  {
   "cell_type": "code",
   "execution_count": null,
   "id": "c7b42185-0a97-4642-8e3e-1c6f8acb9e5d",
   "metadata": {},
   "outputs": [],
   "source": [
    "class ImageDataset:\n",
    "    @staticmethod\n",
    "    def load_image_tensor(path):\n",
    "        img = mmcv.imread(path, 0)\n",
    "        img = mmcv.imrescale(img, INP_SHAPE)\n",
    "        img = mmcv.impad(img, shape=INP_SHAPE, pad_val=114)\n",
    "        img = img[None].astype(np.float32)\n",
    "        return torch.from_numpy(img)\n",
    "\n",
    "\n",
    "    def __init__(self, img_paths, y=None):\n",
    "        self.img_paths = img_paths\n",
    "        self.y = y if y is not None else [0]*len(img_paths)\n",
    "    def __len__(self):\n",
    "        return len(self.img_paths)\n",
    "    def __getitem__(self, i):\n",
    "        return load_image_tensor(self.img_paths[i]), self.y[i]\n",
    "    \n",
    "ds = ImageDataset(df.img_path.values)"
   ]
  },
  {
   "cell_type": "markdown",
   "id": "4254f268-9561-4697-9de0-469d12a64875",
   "metadata": {},
   "source": [
    "## Update detection to dataframe"
   ]
  },
  {
   "cell_type": "code",
   "execution_count": null,
   "id": "cbb35119-bcbd-4969-9c26-2f2fa57c15aa",
   "metadata": {},
   "outputs": [
    {
     "name": "stderr",
     "output_type": "stream",
     "text": [
      "100%|██████████████████████████████████████████████████████████████████████████████████████████████████████████████████████████████████████████████████████████████████████████████████████████████████████████████| 109/109 [01:45<00:00,  1.03it/s]\n"
     ]
    }
   ],
   "source": [
    "OBJECTS = ['face', 'cigarette', 'food/drink', 'phone']\n",
    "\n",
    "imgpath2index = {v:k for k, v in df.img_path.to_dict().items()}\n",
    "\n",
    "def update_one_image(img_id, cc):\n",
    "    def get_max_score_ann(anns, catname):\n",
    "        cat_id = catname2id[catname]\n",
    "        anns_cat = [ann for ann in anns if ann['category_id'] == cat_id]\n",
    "        anns_cat = list(sorted(anns_cat, key=lambda x:x['score']))\n",
    "        if len(anns_cat):\n",
    "            return anns_cat[-1]\n",
    "        return None\n",
    "\n",
    "    img = cc.gt.imgs[img_id]\n",
    "    df['img_info'] = str(img)\n",
    "    catname2id = {cat['name']:cat['id'] for cat in cc.gt.cats.values()}\n",
    "    img_path = osp.abspath(osp.join(cc.img_dir, img['file_name']))\n",
    "    anns = cc.gt.imgToAnns[img_id]\n",
    "    index = imgpath2index[img_path]\n",
    "    for class_name in OBJECTS:\n",
    "        df.loc[index, class_name] = str(anns)\n",
    "    return df\n",
    "\n",
    "for json_paths in tqdm(list_json_paths):\n",
    "    cc = CocoDataset(json_paths['pred_json_path'])\n",
    "    for img_id in cc.img_ids:\n",
    "        update_one_image(img_id, cc)"
   ]
  },
  {
   "cell_type": "code",
   "execution_count": null,
   "id": "836d5c7d-f950-4c0b-a94e-e8fe64889b0b",
   "metadata": {},
   "outputs": [],
   "source": [
    "_df = df[df.video_index==108]"
   ]
  },
  {
   "cell_type": "code",
   "execution_count": null,
   "id": "505b1a4d-ad4c-40b7-ab63-63402648a4f6",
   "metadata": {},
   "outputs": [],
   "source": [
    "from yolox.tracker.byte_tracker import BYTETracker\n",
    "from yolox.utils.visualize import plot_tracking\n",
    "from tools.coco_tracking import make_parser\n"
   ]
  },
  {
   "cell_type": "code",
   "execution_count": null,
   "id": "078a6482-08db-46a7-8fba-bd936e776da3",
   "metadata": {},
   "outputs": [],
   "source": [
    "for _, row in _df.iterrows():break"
   ]
  },
  {
   "cell_type": "code",
   "execution_count": null,
   "id": "5726436c-f1cc-4f25-9e5a-6d13d1c73133",
   "metadata": {},
   "outputs": [
    {
     "data": {
      "text/plain": [
       "Namespace(aspect_ratio_thresh=10, categories=None, csv_out_path=None, match_thresh=1.1, min_box_area=10, output_dir='./results_vis', path='/home/anhvth8/.local/share/jupyter/runtime/kernel-b1d71de9-4593-421c-9970-e519b9e2b9d3.json', track_buffer=3000, track_thresh=0.1, verbose=True, visualize=False)"
      ]
     },
     "execution_count": null,
     "metadata": {},
     "output_type": "execute_result"
    }
   ],
   "source": []
  },
  {
   "cell_type": "code",
   "execution_count": null,
   "id": "51c02f93-b91f-49c6-b9e7-32d858781323",
   "metadata": {},
   "outputs": [],
   "source": []
  },
  {
   "cell_type": "code",
   "execution_count": null,
   "id": "339f3b8f-1ed3-42a7-84c1-ba89a2ac5c65",
   "metadata": {},
   "outputs": [],
   "source": [
    "# row"
   ]
  },
  {
   "cell_type": "code",
   "execution_count": null,
   "id": "f80ee5e4-5cbf-4023-b249-4e53b4a55ae4",
   "metadata": {},
   "outputs": [],
   "source": [
    "# get_bboxes??"
   ]
  },
  {
   "cell_type": "code",
   "execution_count": null,
   "id": "71bd7ff6-ed5c-49c9-aae8-0519a19679c0",
   "metadata": {},
   "outputs": [],
   "source": []
  },
  {
   "cell_type": "code",
   "execution_count": null,
   "id": "679b4563-1608-4c99-a150-724e862b1a7b",
   "metadata": {},
   "outputs": [],
   "source": [
    "# get_bboxes??"
   ]
  },
  {
   "cell_type": "code",
   "execution_count": null,
   "id": "6c47fa0e-0c80-4798-b8ee-26f923ec4588",
   "metadata": {},
   "outputs": [],
   "source": [
    "cc = CocoDataset(list_json_paths[_df.iloc[0].video_index]['pred_json_path'])"
   ]
  },
  {
   "cell_type": "code",
   "execution_count": null,
   "id": "35ed995d-439d-4e40-bbfa-3fd28286ea7c",
   "metadata": {},
   "outputs": [],
   "source": [
    "args = make_parser().parse_known_args()[0]\n",
    "args.mot20 = False\n",
    "tracker = dict()\n",
    "for cat_name in OBJECTS:\n",
    "    \n",
    "    tracker[cat_name] = BYTETracker(args)"
   ]
  },
  {
   "cell_type": "code",
   "execution_count": null,
   "id": "768bc169-a615-4dfa-a4eb-38e7f6dee702",
   "metadata": {},
   "outputs": [],
   "source": [
    "cat_name2id = {cat['name']:cat['id'] for cat in cc.gt.cats.values()}"
   ]
  },
  {
   "cell_type": "code",
   "execution_count": null,
   "id": "46404473-72a7-4881-baec-ffaf0c09934f",
   "metadata": {},
   "outputs": [
    {
     "name": "stderr",
     "output_type": "stream",
     "text": [
      "100%|███████████████████████████████████████████████████████████████████████████████████████████████████████████████████████████████████████████████████████████████████████████████████████████████████████████| 1069/1069 [00:05<00:00, 194.14it/s]\n"
     ]
    }
   ],
   "source": [
    "results = [f\"img_id,tid,cat_id,x,y,w,h,score\\n\"]\n",
    "vis_imgs = []\n",
    "img_ids = list(cc.gt.imgs.keys())\n",
    "imsize = None\n",
    "args.visualize=True\n",
    "tracklets = dict()\n",
    "pbar = tqdm(sorted(img_ids))\n",
    "\n",
    "img_info = cc.gt.imgs[img_ids[0]]\n",
    "imsize = (img_info['height'], img_info['width'])\n",
    "for img_id in pbar:\n",
    "    frame_id = img_id\n",
    "    ret_val = True\n",
    "    anns = cc.gt.imgToAnns[img_id]\n",
    "    if args.visualize:\n",
    "        online_im = mmcv.imresize(cc.imread(img_id), imsize[::-1])\n",
    "\n",
    "    for class_name in OBJECTS:\n",
    "        category_id = cat_name2id[class_name]\n",
    "        outputs = torch.from_numpy(\n",
    "            get_bboxes(anns,\n",
    "                       mode='xyxy',\n",
    "                       category_ids=[category_id],\n",
    "                       score_thr=0.01, with_score=1))\n",
    "        # print(len(outputs))\n",
    "        if outputs is not None and len(outputs) > 0:\n",
    "            online_targets = tracker[class_name].update(\n",
    "                outputs, imsize, imsize)\n",
    "\n",
    "            online_tlwhs = []\n",
    "            online_ids = []\n",
    "            online_scores = []\n",
    "            for t in online_targets:\n",
    "                tlwh = t.tlwh\n",
    "                tid = t.track_id\n",
    "                vertical = tlwh[2] / tlwh[3] > args.aspect_ratio_thresh\n",
    "                if tlwh[2] * tlwh[3] > args.min_box_area and not vertical:\n",
    "                    online_tlwhs.append(tlwh)\n",
    "                    online_ids.append(tid)\n",
    "                    online_scores.append(t.score)\n",
    "                    results.append(\n",
    "                        f\"{frame_id},{tid},{category_id},{tlwh[0]:.2f},{tlwh[1]:.2f},{tlwh[2]:.2f},{tlwh[3]:.2f},{t.score:.2f}\\n\"\n",
    "                    )\n",
    "\n",
    "            if args.visualize:\n",
    "                online_im = plot_tracking(online_im,\n",
    "                                          online_tlwhs,\n",
    "                                          online_ids,\n",
    "                                          frame_id=frame_id + 1,\n",
    "                                          fps=-1)\n",
    "    if args.visualize:\n",
    "        vis_imgs.append(online_im)\n",
    "    frame_id += 1\n"
   ]
  },
  {
   "cell_type": "code",
   "execution_count": null,
   "id": "03f6f167-ea06-4bd9-b9bc-6e49d0288fa9",
   "metadata": {},
   "outputs": [
    {
     "name": "stderr",
     "output_type": "stream",
     "text": [
      "2022-09-29 09:57:17.808 | INFO     | avcv.utils:images_to_video:267 - Write video, output_size: (416, 224)\n"
     ]
    },
    {
     "name": "stdout",
     "output_type": "stream",
     "text": [
      "[>>>>>>>>>>>>>>>>>>>>>>>>>>>] 1069/1069, 478.5 task/s, elapsed: 2s, ETA:     0s"
     ]
    },
    {
     "name": "stderr",
     "output_type": "stream",
     "text": [
      "2022-09-29 09:57:20.045 | INFO     | avcv.utils:images_to_video:277 - -> /home/anhvth8/gitprojects/YOLOX/vis.mp4\n"
     ]
    }
   ],
   "source": [
    "images_to_video(vis_imgs, 'vis.mp4', output_size=(416, 224))"
   ]
  },
  {
   "cell_type": "code",
   "execution_count": null,
   "id": "0284c8ee-1130-413f-a8b5-cd7b529c35d6",
   "metadata": {},
   "outputs": [],
   "source": []
  }
 ],
 "metadata": {
  "kernelspec": {
   "display_name": "Python 3 (ipykernel)",
   "language": "python",
   "name": "python3"
  }
 },
 "nbformat": 4,
 "nbformat_minor": 5
}
