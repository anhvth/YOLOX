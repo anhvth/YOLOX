{
 "cells": [
  {
   "cell_type": "code",
   "execution_count": 2,
   "id": "850d2b30-cbaf-4fa3-8958-49ac13fa8ccb",
   "metadata": {},
   "outputs": [],
   "source": [
    "import torch\n",
    "import torch.nn as nn"
   ]
  },
  {
   "cell_type": "code",
   "execution_count": 3,
   "id": "3151908a-b511-4a4c-ad0e-c33844133555",
   "metadata": {},
   "outputs": [],
   "source": [
    "class Shuffle(nn.Module):\n",
    "    \"\"\"Focus width and height information into channel space.\"\"\"\n",
    "\n",
    "    def __init__(self):\n",
    "        super().__init__()\n",
    "#         self.conv = BaseConv(in_channels * 4, out_channels, ksize, stride, act=act)\n",
    "\n",
    "    def forward(self, x):\n",
    "        patch_top_left = x[..., ::2, ::2]\n",
    "        patch_top_right = x[..., ::2, 1::2]\n",
    "        patch_bot_left = x[..., 1::2, ::2]\n",
    "        patch_bot_right = x[..., 1::2, 1::2]\n",
    "        x = torch.cat(\n",
    "            (\n",
    "                patch_top_left,\n",
    "                patch_bot_left,\n",
    "                patch_top_right,\n",
    "                patch_bot_right,\n",
    "            ),\n",
    "            dim=1,\n",
    "        )\n",
    "        return x\n"
   ]
  },
  {
   "cell_type": "code",
   "execution_count": 4,
   "id": "7856294e-39a3-44d2-987c-86436e769b10",
   "metadata": {},
   "outputs": [],
   "source": [
    "l1_loss = nn.L1Loss()"
   ]
  },
  {
   "cell_type": "code",
   "execution_count": 5,
   "id": "e0bc9da3-4174-4275-bf03-c7ef4c677872",
   "metadata": {},
   "outputs": [],
   "source": [
    "shuffle = Shuffle()"
   ]
  },
  {
   "cell_type": "code",
   "execution_count": 6,
   "id": "f929faef-bdc8-4d58-a858-73511a31345c",
   "metadata": {},
   "outputs": [
    {
     "ename": "NameError",
     "evalue": "name 'model' is not defined",
     "output_type": "error",
     "traceback": [
      "\u001b[0;31m---------------------------------------------------------------------------\u001b[0m",
      "\u001b[0;31mNameError\u001b[0m                                 Traceback (most recent call last)",
      "\u001b[0;32m<ipython-input-6-ed97ce00ed4a>\u001b[0m in \u001b[0;36m<module>\u001b[0;34m\u001b[0m\n\u001b[0;32m----> 1\u001b[0;31m \u001b[0moptim\u001b[0m \u001b[0;34m=\u001b[0m \u001b[0mtorch\u001b[0m\u001b[0;34m.\u001b[0m\u001b[0moptim\u001b[0m\u001b[0;34m.\u001b[0m\u001b[0mAdam\u001b[0m\u001b[0;34m(\u001b[0m\u001b[0mmodel\u001b[0m\u001b[0;34m.\u001b[0m\u001b[0mparameters\u001b[0m\u001b[0;34m(\u001b[0m\u001b[0;34m)\u001b[0m\u001b[0;34m)\u001b[0m\u001b[0;34m\u001b[0m\u001b[0;34m\u001b[0m\u001b[0m\n\u001b[0m",
      "\u001b[0;31mNameError\u001b[0m: name 'model' is not defined"
     ]
    }
   ],
   "source": [
    "optim = torch.optim.Adam(model.parameters())"
   ]
  },
  {
   "cell_type": "code",
   "execution_count": null,
   "id": "d0fb3b75-ee5b-4c36-b7c8-20fc4082f87f",
   "metadata": {},
   "outputs": [],
   "source": []
  },
  {
   "cell_type": "code",
   "execution_count": 7,
   "id": "1eda6bec-9e56-43ee-bd76-5001ea79763d",
   "metadata": {},
   "outputs": [],
   "source": [
    "def create_conv(j=(0,0), C=3):\n",
    "    w = torch.zeros([C,1,2,2])\n",
    "    w[:,:,j[0],j[1]] = 1\n",
    "\n",
    "    w = torch.nn.parameter.Parameter(w)\n",
    "    conv_shuffle = nn.Conv2d(C,C, kernel_size=(2,2), stride=(2,2), padding=(0,0), bias=False, groups=C)\n",
    "    conv_shuffle.weight = w\n",
    "    conv_shuffle.weight.requires_grad = False\n",
    "    return conv_shuffle\n",
    "\n",
    "class ShuffleConv(nn.Module):\n",
    "    def __init__(self):\n",
    "        super().__init__()\n",
    "        self.conv_tl = create_conv(C=3, j=(0,0))\n",
    "        self.conv_tr = create_conv(C=3, j=(0,1))\n",
    "        self.conv_bl = create_conv(C=3, j=(1,0))\n",
    "        self.conv_br = create_conv(C=3, j=(1,1))\n",
    "\n",
    "    def forward(self,x):\n",
    "        return torch.cat([self.conv_tl(x), self.conv_bl(x), self.conv_tr(x), self.conv_br(x)], 1)"
   ]
  },
  {
   "cell_type": "code",
   "execution_count": null,
   "id": "f0f563b2-4af4-4f7f-9d05-63b0a694bf0e",
   "metadata": {},
   "outputs": [],
   "source": []
  },
  {
   "cell_type": "code",
   "execution_count": null,
   "id": "a0fe06f7-8d22-4400-b224-0c8f78819fac",
   "metadata": {},
   "outputs": [],
   "source": []
  },
  {
   "cell_type": "markdown",
   "id": "5339bffc-4a69-4158-8f76-a47c5eb14ce6",
   "metadata": {},
   "source": [
    "# Create upsample"
   ]
  },
  {
   "cell_type": "code",
   "execution_count": 15,
   "id": "13174bdc-890c-4826-b547-2c96c288e3bc",
   "metadata": {},
   "outputs": [],
   "source": [
    "img = \n",
    "x = torch.randn(1,3,32,32)"
   ]
  },
  {
   "cell_type": "code",
   "execution_count": 16,
   "id": "60e610f5-b373-4764-80fe-bcf59598aee1",
   "metadata": {},
   "outputs": [
    {
     "data": {
      "text/plain": [
       "torch.Size([1, 1, 64, 64])"
      ]
     },
     "execution_count": 16,
     "metadata": {},
     "output_type": "execute_result"
    }
   ],
   "source": [
    "nn.ConvTranspose2d(3,1, 4, stride=2, padding=1)(x).shape"
   ]
  },
  {
   "cell_type": "code",
   "execution_count": null,
   "id": "db18290e-f05c-4f99-b317-b75db8d2c8b6",
   "metadata": {},
   "outputs": [],
   "source": []
  }
 ],
 "metadata": {
  "kernelspec": {
   "display_name": "Python 3",
   "language": "python",
   "name": "python3"
  },
  "language_info": {
   "codemirror_mode": {
    "name": "ipython",
    "version": 3
   },
   "file_extension": ".py",
   "mimetype": "text/x-python",
   "name": "python",
   "nbconvert_exporter": "python",
   "pygments_lexer": "ipython3",
   "version": "3.8.11"
  }
 },
 "nbformat": 4,
 "nbformat_minor": 5
}
