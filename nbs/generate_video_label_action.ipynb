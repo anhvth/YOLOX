{
 "cells": [
  {
   "cell_type": "code",
   "execution_count": null,
   "id": "dd35c0ec-f38d-4afb-b975-20d99fdab8aa",
   "metadata": {},
   "outputs": [],
   "source": [
    "from avcv.all import *"
   ]
  },
  {
   "cell_type": "code",
   "execution_count": null,
   "id": "3c5ea94d-75b4-450d-b67f-b9308fa4f740",
   "metadata": {},
   "outputs": [],
   "source": [
    "cc = DiagnoseCoco('/data/DMS_Behavior_Detection/Action_Eating_frames/annotations/instances_default.json')"
   ]
  },
  {
   "cell_type": "code",
   "execution_count": null,
   "id": "2b7b3950-bbd6-49cd-b4cc-5124bbfb98cd",
   "metadata": {},
   "outputs": [],
   "source": []
  },
  {
   "cell_type": "code",
   "execution_count": null,
   "id": "630a099b-7240-4f75-ad6a-ca19e90992d5",
   "metadata": {},
   "outputs": [],
   "source": [
    "def get_video_name(img):\n",
    "    vname = img['file_name'].split('/')[-2]\n",
    "    return vname[:-12], vname\n",
    "vname, vname_split = get_video_name(img)"
   ]
  },
  {
   "cell_type": "code",
   "execution_count": null,
   "id": "e22d5827-2461-46ac-91b0-49eeb2e3e9fe",
   "metadata": {},
   "outputs": [],
   "source": [
    "video_imgs = dict()\n",
    "for img_id in cc.img_ids:\n",
    "    img = cc.gt.imgs[img_id]\n",
    "    vname = get_video_name(img)\n",
    "    if not vname in video_imgs: video_imgs[vname] = []\n",
    "    video_imgs[vname].append(img_id)\n",
    "\n",
    "# for vname in list(sorted(video_imgs, key=lambda x:x[1])):\n",
    "#     print(vname)"
   ]
  },
  {
   "cell_type": "code",
   "execution_count": null,
   "id": "388d3a28-67d4-4a9e-8ff7-5321b90df386",
   "metadata": {},
   "outputs": [],
   "source": [
    "def vname2_path(vname):\n",
    "    return f'/data/DMS_Behavior_Detection/RawVideos/Action_Eating/{vname[0]}/{vname[1]}.mp4'"
   ]
  },
  {
   "cell_type": "code",
   "execution_count": null,
   "id": "7bbd93ff-27d7-4f81-b458-47759e4aad67",
   "metadata": {},
   "outputs": [],
   "source": [
    "vnames = list(video_imgs.keys())"
   ]
  },
  {
   "cell_type": "code",
   "execution_count": null,
   "id": "0864da05-604b-4f0b-b568-7c585bcc3081",
   "metadata": {},
   "outputs": [],
   "source": [
    "vname = vnames[0]"
   ]
  },
  {
   "cell_type": "code",
   "execution_count": null,
   "id": "1cdfab36-5d40-4164-aa27-d77c60605b30",
   "metadata": {},
   "outputs": [],
   "source": [
    "video = mmcv.VideoReader(vname2_path(vname))"
   ]
  },
  {
   "cell_type": "code",
   "execution_count": null,
   "id": "4871ac59-f3c6-4283-be15-bcb2ae158b86",
   "metadata": {},
   "outputs": [],
   "source": [
    "vlen = len(video)\n",
    "nframes = len(list(sorted(video_imgs[vname])))\n",
    "sampling_rate = vlen/nframes"
   ]
  },
  {
   "cell_type": "code",
   "execution_count": null,
   "id": "f5f15e5b-95ef-458f-9461-813cd6da06e9",
   "metadata": {},
   "outputs": [],
   "source": []
  },
  {
   "cell_type": "code",
   "execution_count": null,
   "id": "a2a0e187-39c7-4eb0-a7ba-020b41083b68",
   "metadata": {},
   "outputs": [],
   "source": [
    "def ann2bbox(ann):\n",
    "    x,y,w,h = ann['bbox']\n",
    "    return np.array([x,y,x+w,y+h])"
   ]
  },
  {
   "cell_type": "code",
   "execution_count": null,
   "id": "b7ac3712-b779-44ce-9eeb-b78fc8e6f521",
   "metadata": {},
   "outputs": [],
   "source": [
    "class_names = ['None']+[cat['name'] for cat in cc.gt.cats.values()]"
   ]
  },
  {
   "cell_type": "code",
   "execution_count": null,
   "id": "a5d09cc4-17de-4ee4-8615-49eaddd95eb0",
   "metadata": {},
   "outputs": [
    {
     "name": "stderr",
     "output_type": "stream",
     "text": [
      "79it [00:00, 46926.78it/s]\n"
     ]
    }
   ],
   "source": [
    "vis = []\n",
    "# video_anns = dict()\n",
    "video_index_to_anns = dict()\n",
    "\n",
    "for i, img_id in tqdm(enumerate(list(sorted(video_imgs[vname])))):\n",
    "    anns = cc.gt.imgToAnns[img_id]\n",
    "    img = cc.gt.imgs[img_id]\n",
    "    bboxes = np.array([ann2bbox(ann) for ann in anns])\n",
    "    cats = [ann['category_id'] for ann in anns]\n",
    "    scores = [1]*len(bboxes)\n",
    "\n",
    "    # v = bbox_visualize(cc.imread(img_id), bboxes, scores, cats, class_names=class_names)\n",
    "    vis.append(v)\n",
    "    \n",
    "    # video_anns[i] = len(cats)\n",
    "    video_index_to_anns[i] = (bboxes, scores, cats)"
   ]
  },
  {
   "cell_type": "code",
   "execution_count": null,
   "id": "01eb2124-51fb-4f5f-afbc-5e2598001cbb",
   "metadata": {},
   "outputs": [
    {
     "name": "stderr",
     "output_type": "stream",
     "text": [
      "100%|█████████████████████████████████████████████████████████████████████████████████████████████████████████████████████████████████████████████████████████| 472/472 [00:02<00:00, 206.00it/s]\n"
     ]
    }
   ],
   "source": [
    "vis = []\n",
    "for i, frame in tqdm(enumerate(video), total=len(video)):\n",
    "    index = int(i/sampling_rate)\n",
    "    (bboxes, scores, cats) = video_index_to_anns[index]\n",
    "    v = bbox_visualize(frame, bboxes, scores, cats, class_names=class_names)\n",
    "    vis.append(v)"
   ]
  },
  {
   "cell_type": "code",
   "execution_count": null,
   "id": "de4ec137-01c6-4af8-ac84-c2d1f6c6dde9",
   "metadata": {},
   "outputs": [
    {
     "name": "stderr",
     "output_type": "stream",
     "text": [
      "2022-09-18 10:24:16.984 | INFO     | avcv.utils:images_to_video:267 - Write video, output_size: (600, 400)\n"
     ]
    },
    {
     "name": "stdout",
     "output_type": "stream",
     "text": [
      "[>>>>>>>>>>>>>>>>>>>>>>>>>>>>>>] 472/472, 84.2 task/s, elapsed: 6s, ETA:     0s"
     ]
    },
    {
     "name": "stderr",
     "output_type": "stream",
     "text": [
      "2022-09-18 10:24:22.592 | INFO     | avcv.utils:images_to_video:277 - -> /home/anhvth8/gitprojects/YOLOX/nbs/vis.mp4\n"
     ]
    }
   ],
   "source": [
    "images_to_video(vis, 'vis.mp4', output_size=(600, 400))"
   ]
  },
  {
   "cell_type": "code",
   "execution_count": null,
   "id": "0cd8476d-5e8f-475d-9547-025aee4c3b65",
   "metadata": {},
   "outputs": [],
   "source": [
    "# bboxes.shape"
   ]
  },
  {
   "cell_type": "code",
   "execution_count": null,
   "id": "fa9e2472-2f03-4a84-b0ed-325fba241a8a",
   "metadata": {},
   "outputs": [],
   "source": [
    "# img"
   ]
  },
  {
   "cell_type": "code",
   "execution_count": null,
   "id": "eb9a4052-d4b2-47f7-bfbf-9514681b54b5",
   "metadata": {},
   "outputs": [],
   "source": []
  }
 ],
 "metadata": {
  "kernelspec": {
   "display_name": "Python 3 (ipykernel)",
   "language": "python",
   "name": "python3"
  }
 },
 "nbformat": 4,
 "nbformat_minor": 5
}
