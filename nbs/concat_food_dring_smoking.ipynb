{
 "cells": [
  {
   "cell_type": "code",
   "execution_count": null,
   "id": "4f8ef7d1-b108-40f9-8840-dc5e690e02b6",
   "metadata": {},
   "outputs": [
    {
     "name": "stdout",
     "output_type": "stream",
     "text": [
      "['airplane', 'apple', 'backpack', 'banana', 'baseball bat', 'baseball glove', 'bear', 'bed', 'bench', 'bicycle', 'bird', 'boat', 'book', 'bottle', 'bowl', 'broccoli', 'bus', 'cake', 'cam', 'car', 'carrot', 'cat', 'cell phone', 'chair', 'cigarette', 'clock', 'couch', 'cow', 'cup', 'dining table', 'dog', 'donut', 'elephant', 'face', 'face_visible', 'fire hydrant', 'food/drink', 'fork', 'frisbee', 'giraffe', 'hair drier', 'hand', 'handbag', 'horse', 'hot dog', 'keyboard', 'kite', 'knife', 'laptop', 'left eye close', 'left eye na', 'left eye open', 'lomui', 'longmayphai', 'longmaytrai', 'mask', 'matphai', 'mattrai', 'microwave', 'moingoai', 'moitrong', 'motorcycle', 'mouse', 'mouth', 'mouth close', 'mouth open', 'orange', 'oven', 'parking meter', 'person', 'phone', 'pizza', 'potted plant', 'refrigerator', 'remote', 'right eye close', 'right eye na', 'right eye open', 'sandwich', 'scissors', 'sheep', 'sink', 'skateboard', 'skis', 'snowboard', 'songmui', 'spoon', 'sports ball', 'stop sign', 'suitcase', 'surfboard', 'tammatphai', 'tammattrai', 'teddy bear', 'tennis racket', 'tie', 'toaster', 'toilet', 'toothbrush', 'traffic light', 'train', 'truck', 'tv', 'umbrella', 'vase', 'wine glass', 'zebra']\n"
     ]
    }
   ],
   "source": [
    "import numpy as np\n",
    "from loguru import logger\n",
    "from glob import glob\n",
    "import os\n",
    "import os.path as osp\n",
    "import mmcv\n",
    "from avcv.coco import *\n",
    "\n",
    "import argparse\n",
    "\n",
    "datasets = [\n",
    "    ('/data/DMS_Behavior_Detection/Action_Eating_frames/annotations/instances_default.json', \n",
    "        '/data/DMS_Behavior_Detection/Action_Eating_frames/images'),\n",
    "    ('/data/DMS_Behavior_Detection/Mobile_Cigarret_DB/mobile_cigarette_train_081522_finetuning.json', \n",
    "        '/data/DMS_Behavior_Detection/Mobile_Cigarret_DB/'),\n",
    "    ('/data/DMS_Behavior_Detection/Mobile_Cigarret_DB/mobile_cigarette_val_080422.json', \n",
    "        '/data/DMS_Behavior_Detection/Mobile_Cigarret_DB/'),\n",
    "    ('/data/public/coco/annotations/instances_train2017.json', '/data/public/coco/train2017/'),\n",
    "    ('/data/public/coco/annotations/instances_val2017.json', '/data/public/coco/val2017/')\n",
    "]\n",
    "new_root_dir = '/data/DMS_Behavior_Detection/merge-phone-cigaret-food/'\n",
    "\n",
    "mmcv.mkdir_or_exist(new_root_dir)\n",
    "\n",
    "cats = []\n",
    "for ann, _ in datasets:\n",
    "    for cat in mmcv.load(ann)['categories']:\n",
    "        cats.append(cat['name'])\n",
    "\n",
    "print(sorted(set(cats)))"
   ]
  },
  {
   "cell_type": "code",
   "execution_count": null,
   "id": "c98392ee-2816-46b9-8aca-95191c4c5566",
   "metadata": {},
   "outputs": [],
   "source": []
  },
  {
   "cell_type": "code",
   "execution_count": null,
   "id": "8f556f07-faee-4ea8-bbd8-7970fddb62ee",
   "metadata": {},
   "outputs": [],
   "source": [
    "category_old_to_new = {\n",
    "    'cigarette':'cigarette',\n",
    "    'food/drink':'food/drink',\n",
    "    'phone':'phone',\n",
    "    'cell phone': 'phone',\n",
    "    'donut':'food/drink',\n",
    "    'hot dog':'food/drink',\n",
    "    'pizza':'food/drink',\n",
    "    'wine glass':'food/drink',\n",
    "    'orange':'food/drink',\n",
    "    'cake':'food/drink',\n",
    "    'banana':'food/drink',\n",
    "    'sandwich':'food/drink',\n",
    "    'apple':'food/drink',\n",
    "}\n",
    "categories = []\n",
    "used_names = set()\n",
    "for id, name in enumerate(category_old_to_new.values()):\n",
    "    if not name in used_names:\n",
    "        categories += [{'id':id, 'name':name} ]\n",
    "        used_names.add(name)\n",
    "    \n",
    "name2cat = {cat['name']:cat for cat in categories}"
   ]
  },
  {
   "cell_type": "code",
   "execution_count": null,
   "id": "01668188-2148-4c3a-90a4-291f9a675fb5",
   "metadata": {},
   "outputs": [
    {
     "data": {
      "text/plain": [
       "[{'id': 0, 'name': 'cigarette'},\n",
       " {'id': 1, 'name': 'food/drink'},\n",
       " {'id': 2, 'name': 'phone'}]"
      ]
     },
     "execution_count": null,
     "metadata": {},
     "output_type": "execute_result"
    }
   ],
   "source": [
    "categories"
   ]
  },
  {
   "cell_type": "code",
   "execution_count": null,
   "id": "88b65c9e-d5a7-40f4-be77-936405426d59",
   "metadata": {},
   "outputs": [
    {
     "name": "stderr",
     "output_type": "stream",
     "text": [
      "2022-09-16 07:15:31.498 | INFO     | avcv.coco:split_coco:470 - Spliting ratio 0.85 -> 30615 training and 5403 testing\n"
     ]
    }
   ],
   "source": [
    "\n",
    "from avcv.all import *\n",
    "\n",
    "\n",
    "out_dict = dict(\n",
    "    images=[],\n",
    "    annotations=[],\n",
    "    categories=categories\n",
    "\n",
    ")\n",
    "\n",
    "new_img_dir = osp.join(new_root_dir, 'images')\n",
    "for json, img_dir in datasets:\n",
    "    cc = CocoDataset(json, img_dir)\n",
    "    # cc.visualize();\n",
    "    for img_id in cc.img_ids:\n",
    "        img = cc.gt.imgs[img_id].copy()\n",
    "        new_img_id = len(out_dict['images'])\n",
    "        new_img = img.copy()\n",
    "        new_img['id'] = new_img_id\n",
    "        file_name = os.path.abspath(osp.join(cc.img_dir, img['file_name']))\n",
    "        rel_path = os.path.relpath(file_name, new_img_dir)\n",
    "        new_img['file_name'] = rel_path\n",
    "        \n",
    "\n",
    "        take = False\n",
    "        for ann in cc.gt.imgToAnns[img_id]:\n",
    "            ann = ann.copy()\n",
    "            ann['image_id'] = new_img_id\n",
    "            old_cat = cc.gt.cats[ann['category_id']]\n",
    "            if old_cat['name'] in category_old_to_new:\n",
    "                new_cat_name = category_old_to_new[old_cat['name']]\n",
    "                new_cat = name2cat[new_cat_name]\n",
    "                ann['category_id'] = new_cat['id']\n",
    "                ann['id'] = len(out_dict['annotations'])\n",
    "                out_dict['annotations'].append(ann)\n",
    "                take = True\n",
    "        if not '/public/coco' in new_img['file_name'] or take:\n",
    "            out_dict['images'].append(new_img)\n",
    "        # if get_name(file_name) == 'vietanh_phoneusage_0012':\n",
    "        #     vis = cc.visualize(img_id)\n",
    "        #     new_cc = CocoDataset(out_dict, new_img_dir)\n",
    "        #     new_vis = new_cc.visualize(new_img_id)\n",
    "\n",
    "        #     mmcv.imwrite(np.concatenate([vis, new_vis], 1), 'vis.jpg')\n",
    "            # import ipdb; ipdb.set_trace()\n",
    "\n",
    "\n",
    "train_coco, val_coco = split_coco(out_dict)\n",
    "\n",
    "\n",
    "\n",
    "# cmd = f\"python tools/visualize_coco.py {train_json_out} --imgs {new_img_dir}\"\n",
    "# logger.info(cmd)\n"
   ]
  },
  {
   "cell_type": "code",
   "execution_count": null,
   "id": "6b8f2677-56e2-43ff-b742-242c1ab21258",
   "metadata": {},
   "outputs": [
    {
     "data": {
      "text/plain": [
       "(30615, 5403)"
      ]
     },
     "execution_count": null,
     "metadata": {},
     "output_type": "execute_result"
    }
   ],
   "source": [
    "len(train_coco['images']), len(val_coco['images'])"
   ]
  },
  {
   "cell_type": "code",
   "execution_count": null,
   "id": "f185a18a-9f9e-445d-96d0-94b1190403fc",
   "metadata": {},
   "outputs": [],
   "source": [
    "train_json_out = osp.join(new_root_dir, 'annotations/train_with_coco.json')\n",
    "val_json_out = osp.join(new_root_dir, 'annotations/val_with_coco.json')\n",
    "mmcv.dump(train_coco, train_json_out)\n",
    "mmcv.dump(val_coco, val_json_out)"
   ]
  },
  {
   "cell_type": "code",
   "execution_count": null,
   "id": "46feaa50-1d5f-4777-be60-42ad0a0400b4",
   "metadata": {},
   "outputs": [],
   "source": []
  }
 ],
 "metadata": {
  "kernelspec": {
   "display_name": "Python 3 (ipykernel)",
   "language": "python",
   "name": "python3"
  }
 },
 "nbformat": 4,
 "nbformat_minor": 5
}
