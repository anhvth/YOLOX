{
 "cells": [
  {
   "cell_type": "code",
   "execution_count": null,
   "id": "4f8ef7d1-b108-40f9-8840-dc5e690e02b6",
   "metadata": {},
   "outputs": [
    {
     "name": "stdout",
     "output_type": "stream",
     "text": [
      "['cam', 'cigarette', 'face', 'face_visible', 'food/drink', 'hand', 'left eye close', 'left eye na', 'left eye open', 'lomui', 'longmayphai', 'longmaytrai', 'mask', 'matphai', 'mattrai', 'moingoai', 'moitrong', 'mouth', 'mouth close', 'mouth open', 'phone', 'right eye close', 'right eye na', 'right eye open', 'songmui', 'tammatphai', 'tammattrai']\n"
     ]
    }
   ],
   "source": [
    "import numpy as np\n",
    "from loguru import logger\n",
    "from glob import glob\n",
    "import os\n",
    "import os.path as osp\n",
    "import mmcv\n",
    "from avcv.coco import *\n",
    "\n",
    "import argparse\n",
    "\n",
    "datasets = [\n",
    "    ('/data/DMS_Behavior_Detection/Action_Eating_frames/annotations/instances_default.json', \n",
    "        '/data/DMS_Behavior_Detection/Action_Eating_frames/images', 'behavior'),\n",
    "    ('/data/DMS_Behavior_Detection/Mobile_Cigarret_DB/mobile_cigarette_train_081522_finetuning.json', \n",
    "        '/data/DMS_Behavior_Detection/Mobile_Cigarret_DB/', 'behavior'),\n",
    "    ('/data/DMS_Behavior_Detection/Mobile_Cigarret_DB/mobile_cigarette_val_080422.json', \n",
    "        '/data/DMS_Behavior_Detection/Mobile_Cigarret_DB/', 'behavior'),\n",
    "    ('/data/public/coco/annotations/instances_train2017.json', '/data/public/coco/train2017/', 'behavior'),\n",
    "    ('/data/public/coco/annotations/instances_val2017.json', '/data/public/coco/val2017/', 'behavior'),\n",
    "    # ('/data/full-version-vip-pro/coco_annotations/train.json', '/data/full-version-vip-pro/DMS_DB_090922/', 'face')\n",
    "]\n",
    "new_root_dir = '/data/DMS_Behavior_Detection/merge-phone-cigaret-food/'\n",
    "\n",
    "mmcv.mkdir_or_exist(new_root_dir)\n",
    "\n",
    "cats = []\n",
    "for ann, _,_ in datasets:\n",
    "    for cat in mmcv.load(ann)['categories']:\n",
    "        cats.append(cat['name'])\n",
    "\n",
    "print(sorted(set(cats)))"
   ]
  },
  {
   "cell_type": "code",
   "execution_count": null,
   "id": "8f556f07-faee-4ea8-bbd8-7970fddb62ee",
   "metadata": {},
   "outputs": [],
   "source": [
    "category_old_to_new = {\n",
    "    'cigarette':'cigarette',\n",
    "    'food/drink':'food/drink',\n",
    "    'phone':'phone',\n",
    "    # 'cell phone': 'phone',\n",
    "    # 'donut':'food/drink',\n",
    "    # 'hot dog':'food/drink',\n",
    "    # 'pizza':'food/drink',\n",
    "    # 'wine glass':'food/drink',\n",
    "    # 'orange':'food/drink',\n",
    "    # 'cake':'food/drink',\n",
    "    # 'banana':'food/drink',\n",
    "    # 'sandwich':'food/drink',\n",
    "    # 'apple':'food/drink',\n",
    "    'left_eye':'left_eye',\n",
    "    'right_eye':'right_eye',\n",
    "    'mouth':'mouth',\n",
    "    'face':'face'\n",
    "}\n",
    "categories = []\n",
    "used_names = set()\n",
    "for id, name in enumerate(category_old_to_new.values()):\n",
    "    if not name in used_names:\n",
    "        categories += [{'id':id+1, 'name':name} ]\n",
    "        used_names.add(name)\n",
    "    \n",
    "name2cat = {cat['name']:cat for cat in categories}"
   ]
  },
  {
   "cell_type": "code",
   "execution_count": null,
   "id": "01668188-2148-4c3a-90a4-291f9a675fb5",
   "metadata": {},
   "outputs": [
    {
     "data": {
      "text/plain": [
       "['cigarette', 'food/drink', 'phone', 'left_eye', 'right_eye', 'mouth', 'face']"
      ]
     },
     "execution_count": null,
     "metadata": {},
     "output_type": "execute_result"
    }
   ],
   "source": [
    "[_['name'] for _ in categories]"
   ]
  },
  {
   "cell_type": "code",
   "execution_count": null,
   "id": "88b65c9e-d5a7-40f4-be77-936405426d59",
   "metadata": {},
   "outputs": [
    {
     "name": "stderr",
     "output_type": "stream",
     "text": [
      "2022-09-16 10:55:18.893 | INFO     | avcv.coco:split_coco:470 - Spliting ratio 0.85 -> 12739 training and 2249 testing\n"
     ]
    }
   ],
   "source": [
    "\n",
    "from avcv.all import *\n",
    "\n",
    "\n",
    "out_dict = dict(\n",
    "    images=[],\n",
    "    annotations=[],\n",
    "    categories=categories\n",
    "\n",
    ")\n",
    "\n",
    "new_img_dir = osp.join(new_root_dir, 'images')\n",
    "for json, img_dir, dname in datasets:\n",
    "    cc = CocoDataset(json, img_dir)\n",
    "    # cc.visualize();\n",
    "    for img_id in cc.img_ids:\n",
    "        img = cc.gt.imgs[img_id].copy()\n",
    "        new_img_id = len(out_dict['images'])\n",
    "        new_img = img.copy()\n",
    "        new_img['id'] = new_img_id\n",
    "        new_img['dataset_name'] = dname\n",
    "        file_name = os.path.abspath(osp.join(cc.img_dir, img['file_name']))\n",
    "        rel_path = os.path.relpath(file_name, new_img_dir)\n",
    "        new_img['file_name'] = rel_path\n",
    "        \n",
    "\n",
    "        take = False\n",
    "        for ann in cc.gt.imgToAnns[img_id]:\n",
    "            ann = ann.copy()\n",
    "            ann['image_id'] = new_img_id\n",
    "            old_cat = cc.gt.cats[ann['category_id']]\n",
    "            if old_cat['name'] in category_old_to_new:\n",
    "                new_cat_name = category_old_to_new[old_cat['name']]\n",
    "                new_cat = name2cat[new_cat_name]\n",
    "                ann['category_id'] = new_cat['id']\n",
    "                ann['id'] = len(out_dict['annotations'])\n",
    "                ann['area'] = ann['bbox'][2]*ann['bbox'][3]\n",
    "                out_dict['annotations'].append(ann)\n",
    "                take = True\n",
    "        if not '/public/coco' in new_img['file_name'] or take:\n",
    "            if not 'width' in new_img:\n",
    "                new_img['width'], new_img['height'] = Image.open(file_name).size\n",
    "                \n",
    "            out_dict['images'].append(new_img)\n",
    "        # if get_name(file_name) == 'vietanh_phoneusage_0012':\n",
    "        #     vis = cc.visualize(img_id)\n",
    "        #     new_cc = CocoDataset(out_dict, new_img_dir)\n",
    "        #     new_vis = new_cc.visualize(new_img_id)\n",
    "\n",
    "        #     mmcv.imwrite(np.concatenate([vis, new_vis], 1), 'vis.jpg')\n",
    "            # import ipdb; ipdb.set_trace()\n",
    "\n",
    "\n",
    "train_coco, val_coco = split_coco(out_dict)\n"
   ]
  },
  {
   "cell_type": "code",
   "execution_count": null,
   "id": "bfeebad7-ea2b-4f26-adf3-3b1e6a78739c",
   "metadata": {},
   "outputs": [],
   "source": [
    "for ann in out_dict['annotations']:\n",
    "    ann['area'] = ann['bbox'][2]*ann['bbox'][3]"
   ]
  },
  {
   "cell_type": "code",
   "execution_count": null,
   "id": "575c0994-90ae-411b-b14b-fa1506e54aaa",
   "metadata": {},
   "outputs": [
    {
     "name": "stderr",
     "output_type": "stream",
     "text": [
      "2022-09-16 10:55:19.018 | INFO     | avcv.coco:split_coco:470 - Spliting ratio 0.85 -> 12739 training and 2249 testing\n"
     ]
    }
   ],
   "source": [
    "train_coco, val_coco = split_coco(out_dict)\n"
   ]
  },
  {
   "cell_type": "code",
   "execution_count": null,
   "id": "6b8f2677-56e2-43ff-b742-242c1ab21258",
   "metadata": {},
   "outputs": [
    {
     "data": {
      "text/plain": [
       "(12739, 2249)"
      ]
     },
     "execution_count": null,
     "metadata": {},
     "output_type": "execute_result"
    }
   ],
   "source": [
    "len(train_coco['images']), len(val_coco['images'])"
   ]
  },
  {
   "cell_type": "code",
   "execution_count": null,
   "id": "f185a18a-9f9e-445d-96d0-94b1190403fc",
   "metadata": {},
   "outputs": [],
   "source": [
    "train_json_out = osp.join(new_root_dir, 'annotations/food_face_train.json')\n",
    "val_json_out = osp.join(new_root_dir, 'annotations/food_face_val.json')\n",
    "mmcv.dump(train_coco, train_json_out)\n",
    "mmcv.dump(val_coco, val_json_out)"
   ]
  },
  {
   "cell_type": "code",
   "execution_count": null,
   "id": "46feaa50-1d5f-4777-be60-42ad0a0400b4",
   "metadata": {},
   "outputs": [],
   "source": [
    "cc = CocoDataset(train_json_out, '/data/DMS_Behavior_Detection/merge-phone-cigaret-food/images/')"
   ]
  },
  {
   "cell_type": "code",
   "execution_count": null,
   "id": "a65d5bc5-a92c-4973-86f3-bdca03a70dc2",
   "metadata": {},
   "outputs": [],
   "source": [
    "# cc.img_dir"
   ]
  },
  {
   "cell_type": "code",
   "execution_count": null,
   "id": "d831a64a-0974-459a-937a-c93915157f17",
   "metadata": {},
   "outputs": [],
   "source": [
    "# cc.visualize(show=1);"
   ]
  },
  {
   "cell_type": "code",
   "execution_count": null,
   "id": "a128450e-0360-45f1-a5f3-c54c0fe89129",
   "metadata": {},
   "outputs": [],
   "source": [
    "# img2cats = {img_id:set() for img_id in cc.img_ids}\n",
    "# for img_id in cc.img_ids:\n",
    "#     anns = cc.gt.imgToAnns[img_id]\n",
    "#     for ann in anns:\n",
    "#         img2cats[img_id].add(ann['category_id'])"
   ]
  },
  {
   "cell_type": "code",
   "execution_count": null,
   "id": "48b9114c-f9f0-4605-8f12-79b5ab5f9f13",
   "metadata": {},
   "outputs": [
    {
     "data": {
      "text/html": [
       "<div>\n",
       "<style scoped>\n",
       "    .dataframe tbody tr th:only-of-type {\n",
       "        vertical-align: middle;\n",
       "    }\n",
       "\n",
       "    .dataframe tbody tr th {\n",
       "        vertical-align: top;\n",
       "    }\n",
       "\n",
       "    .dataframe thead th {\n",
       "        text-align: right;\n",
       "    }\n",
       "</style>\n",
       "<table border=\"1\" class=\"dataframe\">\n",
       "  <thead>\n",
       "    <tr style=\"text-align: right;\">\n",
       "      <th></th>\n",
       "      <th>0</th>\n",
       "      <th>1</th>\n",
       "      <th>2</th>\n",
       "      <th>3</th>\n",
       "    </tr>\n",
       "  </thead>\n",
       "  <tbody>\n",
       "    <tr>\n",
       "      <th>9884</th>\n",
       "      <td>NaN</td>\n",
       "      <td>NaN</td>\n",
       "      <td>NaN</td>\n",
       "      <td>NaN</td>\n",
       "    </tr>\n",
       "    <tr>\n",
       "      <th>37683</th>\n",
       "      <td>16.0</td>\n",
       "      <td>13.0</td>\n",
       "      <td>14.0</td>\n",
       "      <td>15.0</td>\n",
       "    </tr>\n",
       "    <tr>\n",
       "      <th>38292</th>\n",
       "      <td>16.0</td>\n",
       "      <td>13.0</td>\n",
       "      <td>14.0</td>\n",
       "      <td>15.0</td>\n",
       "    </tr>\n",
       "    <tr>\n",
       "      <th>12937</th>\n",
       "      <td>NaN</td>\n",
       "      <td>NaN</td>\n",
       "      <td>NaN</td>\n",
       "      <td>NaN</td>\n",
       "    </tr>\n",
       "    <tr>\n",
       "      <th>16069</th>\n",
       "      <td>1.0</td>\n",
       "      <td>NaN</td>\n",
       "      <td>NaN</td>\n",
       "      <td>NaN</td>\n",
       "    </tr>\n",
       "    <tr>\n",
       "      <th>...</th>\n",
       "      <td>...</td>\n",
       "      <td>...</td>\n",
       "      <td>...</td>\n",
       "      <td>...</td>\n",
       "    </tr>\n",
       "    <tr>\n",
       "      <th>12946</th>\n",
       "      <td>NaN</td>\n",
       "      <td>NaN</td>\n",
       "      <td>NaN</td>\n",
       "      <td>NaN</td>\n",
       "    </tr>\n",
       "    <tr>\n",
       "      <th>24163</th>\n",
       "      <td>1.0</td>\n",
       "      <td>NaN</td>\n",
       "      <td>NaN</td>\n",
       "      <td>NaN</td>\n",
       "    </tr>\n",
       "    <tr>\n",
       "      <th>18080</th>\n",
       "      <td>1.0</td>\n",
       "      <td>NaN</td>\n",
       "      <td>NaN</td>\n",
       "      <td>NaN</td>\n",
       "    </tr>\n",
       "    <tr>\n",
       "      <th>38341</th>\n",
       "      <td>16.0</td>\n",
       "      <td>13.0</td>\n",
       "      <td>14.0</td>\n",
       "      <td>15.0</td>\n",
       "    </tr>\n",
       "    <tr>\n",
       "      <th>5779</th>\n",
       "      <td>2.0</td>\n",
       "      <td>NaN</td>\n",
       "      <td>NaN</td>\n",
       "      <td>NaN</td>\n",
       "    </tr>\n",
       "  </tbody>\n",
       "</table>\n",
       "<p>35848 rows × 4 columns</p>\n",
       "</div>"
      ],
      "text/plain": [
       "          0     1     2     3\n",
       "9884    NaN   NaN   NaN   NaN\n",
       "37683  16.0  13.0  14.0  15.0\n",
       "38292  16.0  13.0  14.0  15.0\n",
       "12937   NaN   NaN   NaN   NaN\n",
       "16069   1.0   NaN   NaN   NaN\n",
       "...     ...   ...   ...   ...\n",
       "12946   NaN   NaN   NaN   NaN\n",
       "24163   1.0   NaN   NaN   NaN\n",
       "18080   1.0   NaN   NaN   NaN\n",
       "38341  16.0  13.0  14.0  15.0\n",
       "5779    2.0   NaN   NaN   NaN\n",
       "\n",
       "[35848 rows x 4 columns]"
      ]
     },
     "execution_count": null,
     "metadata": {},
     "output_type": "execute_result"
    }
   ],
   "source": [
    "pd.DataFrame.from_dict(img2cats, orient='index')"
   ]
  },
  {
   "cell_type": "code",
   "execution_count": null,
   "id": "6bb4c946-7eee-43d9-87aa-18a3ff2c01e2",
   "metadata": {},
   "outputs": [],
   "source": []
  },
  {
   "cell_type": "code",
   "execution_count": null,
   "id": "78bfbd90-ab2c-4421-a72e-c60436786a9f",
   "metadata": {},
   "outputs": [],
   "source": []
  }
 ],
 "metadata": {
  "kernelspec": {
   "display_name": "Python 3 (ipykernel)",
   "language": "python",
   "name": "python3"
  }
 },
 "nbformat": 4,
 "nbformat_minor": 5
}
